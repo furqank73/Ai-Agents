{
 "cells": [
  {
   "cell_type": "markdown",
   "id": "45604e07",
   "metadata": {},
   "source": [
    "The **ReAct Agent Architecture** is a powerful pattern used to build more intelligent AI agents. **ReAct** stands for **Reasoning + Acting**. This architecture allows a model not only to **think** (reason) but also to **do things** (act) using external tools like calculators, APIs, search engines, or custom functions.\n",
    "\n",
    "---\n",
    "\n",
    "### ✅ The Aim of ReAct\n",
    "\n",
    "ReAct enables an AI agent to **interleave reasoning and actions** in steps so it can solve complex problems that require external information or multiple steps of thinking.\n",
    "\n",
    "It follows a simple loop:\n",
    "\n",
    "| Step        | Description                                              |\n",
    "| ----------- | -------------------------------------------------------- |\n",
    "| **Act**     | The AI decides to call a specific tool or take an action |\n",
    "| **Observe** | The AI gets back the result/output from the tool         |\n",
    "| **Reason**  | The AI thinks about what to do next based on the result  |\n",
    "\n",
    "Then it repeats the cycle until it reaches the final answer.\n",
    "\n",
    "---\n",
    "\n",
    "### 🔁 How ReAct Works (Step by Step Example)\n",
    "\n",
    "Let’s say the agent is asked:\n",
    "\n",
    "> **\"What's the population of France minus the population of Germany?\"**\n",
    "\n",
    "A normal model might hallucinate. But a ReAct agent does this:\n",
    "\n",
    "1. **Reason** → \"I don’t know the populations, I should look them up.\"\n",
    "2. **Act** → Calls a `search_population` tool for France.\n",
    "3. **Observe** → Tool returns: *Population of France = 67 million*.\n",
    "4. **Reason** → \"Next, I need Germany population.\"\n",
    "5. **Act** → Calls `search_population` tool for Germany.\n",
    "6. **Observe** → Tool returns: *Population of Germany = 83 million*.\n",
    "7. **Reason** → \"Now I can subtract.\"\n",
    "8. **Act** → Performs subtraction.\n",
    "9. **Final Answer** → \"Germany has 16 million more people than France.\"\n",
    "\n",
    "---\n",
    "\n",
    "### 💡 Why ReAct Is Important\n",
    "\n",
    "| Benefit                 | Explanation                             |\n",
    "| ----------------------- | --------------------------------------- |\n",
    "| Reduces hallucinations  | Because it uses verified tool outputs   |\n",
    "| Better problem solving  | Breaks tasks into steps                 |\n",
    "| Real-world capabilities | Can use APIs, databases, calculations   |\n",
    "| Multi-step workflows    | Decisions improve with each observation |\n",
    "\n",
    "---\n",
    "\n",
    "### 🧠 Intuition Behind the Loop\n",
    "\n",
    "You can think of ReAct as how **humans solve problems**:\n",
    "\n",
    "> **Think → Do → Check Result → Think Again → Do Next Step → Answer**\n",
    "\n",
    "That’s exactly what ReAct enables in AI agents.\n",
    "\n",
    "---"
   ]
  },
  {
   "cell_type": "code",
   "execution_count": 1,
   "id": "a438edb9",
   "metadata": {},
   "outputs": [],
   "source": [
    "from langchain_community.tools import ArxivQueryRun,WikipediaQueryRun\n",
    "from langchain_community.utilities import WikipediaAPIWrapper,ArxivAPIWrapper"
   ]
  },
  {
   "cell_type": "markdown",
   "id": "d4d501c4",
   "metadata": {},
   "source": [
    "# ARXIV RAPPER"
   ]
  },
  {
   "cell_type": "code",
   "execution_count": 2,
   "id": "3108df28",
   "metadata": {},
   "outputs": [
    {
     "name": "stdout",
     "output_type": "stream",
     "text": [
      "arxiv\n"
     ]
    }
   ],
   "source": [
    "api_wrapper_arxiv=ArxivAPIWrapper(top_k_results=2,doc_content_chars_max=500)\n",
    "arxiv=ArxivQueryRun(api_wrapper=api_wrapper_arxiv)\n",
    "print(arxiv.name)"
   ]
  },
  {
   "cell_type": "code",
   "execution_count": 5,
   "id": "7a850eaa",
   "metadata": {},
   "outputs": [
    {
     "data": {
      "text/plain": [
       "\"Published: 2024-07-22\\nTitle: Attention Is All You Need But You Don't Need All Of It For Inference of Large Language Models\\nAuthors: Georgy Tyukin, Gbetondji J-S Dovonon, Jean Kaddour, Pasquale Minervini\\nSummary: The inference demand for LLMs has skyrocketed in recent months, and serving\\nmodels with low latencies remains challenging due to the quadratic input length\\ncomplexity of the attention layers. In this work, we investigate the effect of\\ndropping MLP and attention layers at inference time o\""
      ]
     },
     "execution_count": 5,
     "metadata": {},
     "output_type": "execute_result"
    }
   ],
   "source": [
    "arxiv.invoke(\"Attention iss all you need\")"
   ]
  },
  {
   "cell_type": "markdown",
   "id": "6bc5d868",
   "metadata": {},
   "source": [
    "# WIKIPEDIA SEARCH"
   ]
  },
  {
   "cell_type": "code",
   "execution_count": 6,
   "id": "b2a2c81e",
   "metadata": {},
   "outputs": [
    {
     "data": {
      "text/plain": [
       "'wikipedia'"
      ]
     },
     "execution_count": 6,
     "metadata": {},
     "output_type": "execute_result"
    }
   ],
   "source": [
    "api_wrapper_wiki=WikipediaAPIWrapper(top_k_results=1,doc_content_chars_max=500)\n",
    "wiki=WikipediaQueryRun(api_wrapper=api_wrapper_wiki)\n",
    "wiki.name"
   ]
  },
  {
   "cell_type": "code",
   "execution_count": 7,
   "id": "b68cef33",
   "metadata": {},
   "outputs": [
    {
     "data": {
      "text/plain": [
       "'Page: Machine learning\\nSummary: Machine learning (ML) is a field of study in artificial intelligence concerned with the development and study of statistical algorithms that can learn from data and generalise to unseen data, and thus perform tasks without explicit instructions. Within a subdiscipline in machine learning, advances in the field of deep learning have allowed neural networks, a class of statistical algorithms, to surpass many previous machine learning approaches in performance.\\nML fi'"
      ]
     },
     "execution_count": 7,
     "metadata": {},
     "output_type": "execute_result"
    }
   ],
   "source": [
    "wiki.invoke(\"What is machine learning\")"
   ]
  },
  {
   "cell_type": "code",
   "execution_count": 8,
   "id": "7a63b347",
   "metadata": {},
   "outputs": [],
   "source": [
    "from dotenv import load_dotenv\n",
    "load_dotenv()\n",
    "\n",
    "import os\n",
    "\n",
    "os.environ[\"TAVILY_API_KEY\"]=os.getenv(\"TAVILY_API_KEY\")\n",
    "os.environ[\"GROQ_API_KEY\"]=os.getenv(\"GROQ_API_KEY\")\n",
    "os.environ[\"LANGCHAIN_API_KEY\"]=os.getenv(\"LANGCHAIN_API_KEY\")\n",
    "os.environ[\"LANGCHAIN_TRACING_V2\"] = \"true\"\n",
    "os.environ[\"LANGCHAIN_PROJECT\"]=\"ReAct-agent\"\n"
   ]
  },
  {
   "cell_type": "markdown",
   "id": "682a13de",
   "metadata": {},
   "source": [
    "# Custom Functions to create Tools"
   ]
  },
  {
   "cell_type": "code",
   "execution_count": 9,
   "id": "2c0a771b",
   "metadata": {},
   "outputs": [],
   "source": [
    "### Custom Functions\n",
    "def multiply(a: int, b: int) -> int:\n",
    "    \"\"\"Multiply a and b.\n",
    "\n",
    "    Args:\n",
    "        a: first int\n",
    "        b: second int\n",
    "    \"\"\"\n",
    "    return a * b\n",
    "\n",
    "# This will be a tool\n",
    "def add(a: int, b: int) -> int:\n",
    "    \"\"\"Adds a and b.\n",
    "\n",
    "    Args:\n",
    "        a: first int\n",
    "        b: second int\n",
    "    \"\"\"\n",
    "    return a + b\n",
    "\n",
    "def divide(a: int, b: int) -> float:\n",
    "    \"\"\"Divide a and b.\n",
    "\n",
    "    Args:\n",
    "        a: first int\n",
    "        b: second int\n",
    "    \"\"\"\n",
    "    return a / b\n",
    "# ADDING ALL TOOLS TOGETHER\n",
    "tools=[arxiv,wiki,add,multiply,divide]"
   ]
  },
  {
   "cell_type": "markdown",
   "id": "9c7611f4",
   "metadata": {},
   "source": [
    "# Tavily Search Tool"
   ]
  },
  {
   "cell_type": "code",
   "execution_count": 10,
   "id": "2adc2d5c",
   "metadata": {},
   "outputs": [
    {
     "name": "stderr",
     "output_type": "stream",
     "text": [
      "C:\\Users\\Furqan Khan\\AppData\\Local\\Temp\\ipykernel_9112\\3584238.py:4: LangChainDeprecationWarning: The class `TavilySearchResults` was deprecated in LangChain 0.3.25 and will be removed in 1.0. An updated version of the class exists in the :class:`~langchain-tavily package and should be used instead. To use it run `pip install -U :class:`~langchain-tavily` and import as `from :class:`~langchain_tavily import TavilySearch``.\n",
      "  tavily = TavilySearchResults()\n"
     ]
    }
   ],
   "source": [
    "### Tavily Search Tool\n",
    "from langchain_community.tools.tavily_search import TavilySearchResults\n",
    "\n",
    "tavily = TavilySearchResults()"
   ]
  },
  {
   "cell_type": "code",
   "execution_count": 11,
   "id": "411798f0",
   "metadata": {},
   "outputs": [
    {
     "data": {
      "text/plain": [
       "[{'title': 'Artificial Intelligence News for the Week of October 10',\n",
       "  'url': 'https://solutionsreview.com/artificial-intelligence-news-for-the-week-of-october-10-updates-from-coreweave-ibm-salesforce-more/',\n",
       "  'content': 'Logo\\nLogo\\nLogo\\nLogo\\nclose icon\\nclose icon\\nclose icon\\nclose icon\\n\\nAd ImageAd Image\\n\\nAd ImageAd Image\\nAd Image\\n\\n# Artificial Intelligence News for the Week of October 10; Updates from CoreWeave, IBM, Salesforce & More\\n\\nTim KingTim King\\nTim King\\n \\n\\nSolutions Review Executive Editor Tim King curated this list of notable artificial intelligence news for the week of October 10, 2025. [...] At TechXchange 2025, IBM introduced next-gen software and infrastructure to help companies transition from AI experimentation to true productivity. Highlights include watsonx Orchestrate with AgentOps (agent observability and governance), low-code agent building via Langflow, the Project infragraph unified observability plane, new mainframe AI assistants, and the private preview of Project Bob—an AI-first IDE for software modernization.\\n\\nRead more → [...] For early access to all the expert insights published on Solutions Review, join Insight Jam, a community dedicated to enabling the human conversation on AI.\\n\\n## Artificial Intelligence News for the Week of October 10, 2025\\n\\n#### CoreWeave to acquire Monolith AI, boosting simulation and industrial AI',\n",
       "  'score': 0.90791017},\n",
       " {'title': 'AI News October 2025: In-Depth and Concise - The AI Track',\n",
       "  'url': 'https://theaitrack.com/ai-news-october-2025-in-depth-and-concise-duplicate/',\n",
       "  'content': \"#### Microsoft Expands Copilot Mode in Edge with AI Actions and Journeys\\n\\nMicrosoft Edge introduces Copilot Mode with AI chat, Actions, and Journeys. Released October 2025, it arrives two days after OpenAI’s Atlas browser launch.\\n\\nAnthropic Expands Claude Memory to All Paid Users - Credit - Anthropic\\nAnthropic Expands Claude Memory to All Paid Users - Credit - Anthropic\\n\\n#### Anthropic Expands Claude Memory to All Paid Users, Matching ChatGPT and Gemini [...] Reading AI News October 2025 - Image generated by Midjourney for The AI Track\\nReading AI News October 2025 - Image generated by Midjourney for The AI Track\\n\\nThis page features AI News for October 2025. At the end, you will find links to our archives for previous months\\n\\nSummaries presented here were created in collaboration with ChatGPT.\\n\\n## AI NEWS October 2025\\n\\nMicrosoft Expands Copilot Mode in Edge - Credit - Microsoft\\nMicrosoft Expands Copilot Mode in Edge - Credit - Microsoft [...] The AI Track\\nThe AI Track\\nThe AI Track\\nThe AI Track\\n\\n# AI News October 2025: In-Depth and Concise\\n\\n## Welcome to The AI Track's comprehensive monthly roundup of the latest AI news!\\n\\nEach month, we compile significant news, trends, and happenings in AI, providing detailed summaries with key points in bullet form for concise yet complete understanding.\",\n",
       "  'score': 0.8967681},\n",
       " {'title': '44 NEW Artificial Intelligence Statistics (Oct 2025) - Exploding Topics',\n",
       "  'url': 'https://explodingtopics.com/blog/ai-statistics',\n",
       "  'content': 'grid-line\\n\\nBlog > 44 NEW Artificial Intelligence Statistics (October 2025)\\n\\n# 44 NEW Artificial Intelligence Statistics (October 2025)\\n\\nauthor photo\\n\\nContents:\\n\\nShare:\\n\\nThis is a list of up-to-date artificial intelligence stats for 2025.\\n\\nFrom ChatGPT to autonomous vehicles, AI is one of the most exciting (and controversial) technology trends in the 21st century.\\n\\nBut how big is the AI space? And how quickly is it growing? [...] #### Banks can increase efficiency by 15 percentage points by embracing AI (PwC)\\n\\nThis will be driven by a 2x increase in customer retention rates, a 30% uplift in lead conversion, a 50% productivity boost, and 50% of staff shifting to higher-value roles as middle office tasks are automated.\\n\\n#### Around two-thirds of medical professionals now use computer systems to aid diagnosis (American Medical Association) [...] And 61% have dedicated leadership (e.g. Chief AI Officers) in place.\\n\\n#### 63% of top-performing companies are increasing cloud budgets in order to to leverage GenAI (PwC)\\n\\nChart showing % of top companies increasing cloud spend\\n\\nChart showing % of top companies increasing cloud spend\\n\\nData suggests that top companies are betting big on AI, and generative AI specifically. 63% are upping cloud spend for this purpose.',\n",
       "  'score': 0.8763069},\n",
       " {'title': 'The 6 AI Breakthroughs That Changed Everything in October 2025',\n",
       "  'url': 'https://medium.com/@exploringtechnology123/the-6-ai-breakthroughs-that-changed-everything-in-october-2025-a0958e088eb7',\n",
       "  'content': 'In the next 3 months: More emphasis on AI efficiency and edge deployment. Companies will focus on bringing capabilities to local devices rather than cloud-dependent systems.\\n\\nIn the next 6 months: Agentic AI moves from pilots to production. The computer-use research will enable broader automation of knowledge work.\\n\\nIn 2026: Photonic AI and neuromorphic computing move from labs to commercial prototypes. Energy costs for running AI drop dramatically.\\n\\n## The Bottom Line [...] While headlines focused on GPT-5’s launch and Microsoft’s latest Copilot updates, the real story was happening in research labs around the world. Researchers made six discoveries that fundamentally change what we thought was possible with AI. And if you’re not paying attention, you’re going to miss why this moment matters.\\n\\n## 1. Photonic AI: Training Neural Networks With Light (Not Electricity) [...] October 2025 will be remembered as the month when AI stopped being about scale and started being about efficiency, capability, and real-world impact.\\n\\nThe researchers and companies that solve the hard problems of AI sustainability, accuracy, and accessibility are going to define the next decade. These six breakthroughs suggest that’s exactly what’s happening right now.\\n\\nThe age of experimental AI is over. The age of infrastructural AI is beginning.',\n",
       "  'score': 0.87348515},\n",
       " {'title': 'AI in Action | October 2025 - TechNet',\n",
       "  'url': 'https://www.technet.org/media/ai-in-action-october-2025/',\n",
       "  'content': 'TechNet\\nTechNet\\n\\n# AI in Action | October 2025\\n\\nOctober 23, 2025\\n\\nArtificial intelligence (AI) has the potential to help us solve the greatest challenges of our time from health care, agriculture, and education to transportation, energy, and national security.\\n\\nWhen guided by ethics, transparency, and fairness — responsible AI can spark creativity and help usher in a more prosperous and sustainable future.\\n\\nSee how AI is improving our lives, growing our economy, and keeping us safe. [...] countries, ensuring accuracy and equity across diverse populations. By quickly identifying high-risk patients, Mirai enables earlier interventions while reducing unnecessary procedures for low-risk individuals. [...] NVIDIA-powered agentic AI is set to accelerate every step of the pharmaceutical life cycle in collaboration with IQVIA, the world’s leading provider of clinical research services. IQVIA’s orchestrator agents accelerate workflows and allow researchers to focus on decision-making instead of administrative work. Using its vast databases and deep domain life sciences expertise, IQVIA can train and fine-tune these models for maximum productivity, addressing the growing need for acceleration in',\n",
       "  'score': 0.86080295}]"
      ]
     },
     "execution_count": 11,
     "metadata": {},
     "output_type": "execute_result"
    }
   ],
   "source": [
    "tavily.invoke(\"Provide me the recent AI news for october 10 2025\")"
   ]
  },
  {
   "cell_type": "markdown",
   "id": "8750a60c",
   "metadata": {},
   "source": [
    "# Initialize LLM model"
   ]
  },
  {
   "cell_type": "code",
   "execution_count": 12,
   "id": "4ca4aade",
   "metadata": {},
   "outputs": [],
   "source": [
    "## Initialize my LLM model\n",
    "\n",
    "from langchain_groq import ChatGroq\n",
    "\n",
    "llm=ChatGroq(model=\"llama-3.1-8b-instant\")\n",
    "\n",
    "llm_with_tools=llm.bind_tools(tools)"
   ]
  },
  {
   "cell_type": "markdown",
   "id": "edde977f",
   "metadata": {},
   "source": [
    "# SIMPLE QUERY"
   ]
  },
  {
   "cell_type": "code",
   "execution_count": 13,
   "id": "0b47ca1d",
   "metadata": {},
   "outputs": [
    {
     "data": {
      "text/plain": [
       "AIMessage(content='', additional_kwargs={'tool_calls': [{'id': '63cy9rpjn', 'function': {'arguments': '{\"query\":\"Recent AI news\"}', 'name': 'wikipedia'}, 'type': 'function'}]}, response_metadata={'token_usage': {'completion_tokens': 16, 'prompt_tokens': 627, 'total_tokens': 643, 'completion_time': 0.033666673, 'prompt_time': 0.090073757, 'queue_time': 0.053257963, 'total_time': 0.12374043}, 'model_name': 'llama-3.1-8b-instant', 'system_fingerprint': 'fp_7b3cfae3af', 'service_tier': 'on_demand', 'finish_reason': 'tool_calls', 'logprobs': None}, id='run--9e91df9c-a23b-428d-85b6-3fea7fb51742-0', tool_calls=[{'name': 'wikipedia', 'args': {'query': 'Recent AI news'}, 'id': '63cy9rpjn', 'type': 'tool_call'}], usage_metadata={'input_tokens': 627, 'output_tokens': 16, 'total_tokens': 643})"
      ]
     },
     "execution_count": 13,
     "metadata": {},
     "output_type": "execute_result"
    }
   ],
   "source": [
    "from pprint import pprint\n",
    "from langchain_core.messages import AIMessage, HumanMessage\n",
    "llm_with_tools.invoke([HumanMessage(content=f\"What is the recent AI News\")])"
   ]
  },
  {
   "cell_type": "code",
   "execution_count": 14,
   "id": "3ead8afb",
   "metadata": {},
   "outputs": [
    {
     "data": {
      "text/plain": [
       "[{'name': 'wikipedia',\n",
       "  'args': {'query': 'Recent AI News'},\n",
       "  'id': 'vaj53t37s',\n",
       "  'type': 'tool_call'}]"
      ]
     },
     "execution_count": 14,
     "metadata": {},
     "output_type": "execute_result"
    }
   ],
   "source": [
    "llm_with_tools.invoke([HumanMessage(content=f\"What is the recent AI News\")]).tool_calls"
   ]
  },
  {
   "cell_type": "markdown",
   "id": "0fd1176c",
   "metadata": {},
   "source": [
    "## State Schema OF THE AGENT"
   ]
  },
  {
   "cell_type": "code",
   "execution_count": 15,
   "id": "25a50a5a",
   "metadata": {},
   "outputs": [],
   "source": [
    "## State Schema\n",
    "from typing_extensions import TypedDict\n",
    "from langchain_core.messages import AnyMessage\n",
    "from typing import Annotated\n",
    "from langgraph.graph.message import add_messages\n",
    "class State(TypedDict):\n",
    "    messages:Annotated[list[AnyMessage],add_messages]"
   ]
  },
  {
   "cell_type": "markdown",
   "id": "f45978b8",
   "metadata": {},
   "source": [
    "# Entire Chatbot With LangGraph \n",
    "- ### Node definition with build graph with add_node(tool_calling_llm,tools)\n",
    "- ### add_edge also with add_conditional_edges if tool call -> tools_condition routes to tools else end"
   ]
  },
  {
   "cell_type": "code",
   "execution_count": 16,
   "id": "b8347b36",
   "metadata": {},
   "outputs": [
    {
     "data": {
      "image/png": "[encoded data removed]",
      "text/plain": [
       "<IPython.core.display.Image object>"
      ]
     },
     "metadata": {},
     "output_type": "display_data"
    }
   ],
   "source": [
    "### Entire Chatbot With LangGraph\n",
    "from IPython.display import Image, display\n",
    "from langgraph.graph import StateGraph, START, END\n",
    "from langgraph.prebuilt import ToolNode\n",
    "from langgraph.prebuilt import tools_condition\n",
    "\n",
    "### Node definition\n",
    "def tool_calling_llm(state:State):\n",
    "    return {\"messages\":[llm_with_tools.invoke(state[\"messages\"])]}\n",
    "\n",
    "# Build graph\n",
    "builder = StateGraph(State)\n",
    "builder.add_node(\"tool_calling_llm\", tool_calling_llm)\n",
    "builder.add_node(\"tools\", ToolNode(tools))\n",
    "\n",
    "builder.add_edge(START, \"tool_calling_llm\")\n",
    "builder.add_conditional_edges(\n",
    "    \"tool_calling_llm\",\n",
    "    # If the latest message (result) from assistant is a tool call -> tools_condition routes to tools\n",
    "    # If the latest message (result) from assistant is a not a tool call -> tools_condition routes to END\n",
    "    tools_condition,\n",
    ")\n",
    "builder.add_edge(\"tools\",\"tool_calling_llm\")\n",
    "\n",
    "\n",
    "graph = builder.compile()\n",
    "\n",
    "# View\n",
    "display(Image(graph.get_graph().draw_mermaid_png()))\n"
   ]
  },
  {
   "cell_type": "markdown",
   "id": "173f6ba5",
   "metadata": {},
   "source": [
    "# ask now to the agent"
   ]
  },
  {
   "cell_type": "code",
   "execution_count": 21,
   "id": "6cc9c655",
   "metadata": {},
   "outputs": [
    {
     "name": "stdout",
     "output_type": "stream",
     "text": [
      "================================\u001b[1m Human Message \u001b[0m=================================\n",
      "\n",
      "Provide me the top 10 recent AI news for october 10 2025,add 5 plus 5 and then multiply by 10\n",
      "==================================\u001b[1m Ai Message \u001b[0m==================================\n",
      "Tool Calls:\n",
      "  wikipedia (nw4s0vz76)\n",
      " Call ID: nw4s0vz76\n",
      "  Args:\n",
      "    query: Top 10 recent AI news October 10 2025\n",
      "  arxiv (ntpe9f9db)\n",
      " Call ID: ntpe9f9db\n",
      "  Args:\n",
      "    query: Top 10 AI news October 10 2025\n",
      "=================================\u001b[1m Tool Message \u001b[0m=================================\n",
      "Name: wikipedia\n",
      "\n",
      "Page: OpenAI\n",
      "Summary: OpenAI is an American artificial intelligence (AI) organization headquartered in San Francisco, California. It aims to develop \"safe and beneficial\" artificial general intelligence (AGI), which it defines as \"highly autonomous systems that outperform humans at most economically valuable work\". As a leading organization in the ongoing AI boom, OpenAI is known for the GPT family of large language models, the DALL-E series of text-to-image models, and a text-to-video model nam\n",
      "=================================\u001b[1m Tool Message \u001b[0m=================================\n",
      "Name: arxiv\n",
      "\n",
      "Published: 2025-06-20\n",
      "Title: AI Should Challenge, Not Obey\n",
      "Authors: Advait Sarkar\n",
      "Summary: Let's transform our robot secretaries into Socratic gadflies.\n",
      "\n",
      "Published: 2025-05-21\n",
      "Title: Lessons From an App Update at Replika AI: Identity Discontinuity in Human-AI Relationships\n",
      "Authors: Julian De Freitas, Noah Castelo, Ahmet K. Uğuralp, Zeliha Oğuz-Uğuralp\n",
      "Summary: Can consumers form especially deep emotional bonds with AI and be vested in\n",
      "AI identities over time? We leverage a natural app-update eve\n",
      "==================================\u001b[1m Ai Message \u001b[0m==================================\n",
      "Tool Calls:\n",
      "  add (xpy5phmcp)\n",
      " Call ID: xpy5phmcp\n",
      "  Args:\n",
      "    a: 5\n",
      "    b: 5\n",
      "  multiply (jfetat5nj)\n",
      " Call ID: jfetat5nj\n",
      "  Args:\n",
      "    a: 10\n",
      "    b: 20\n",
      "=================================\u001b[1m Tool Message \u001b[0m=================================\n",
      "Name: add\n",
      "\n",
      "10\n",
      "=================================\u001b[1m Tool Message \u001b[0m=================================\n",
      "Name: multiply\n",
      "\n",
      "200\n",
      "==================================\u001b[1m Ai Message \u001b[0m==================================\n",
      "\n",
      "The top 10 recent AI news for October 10, 2025, and the result of 5 + 5 multiplied by 10 is 200.\n"
     ]
    }
   ],
   "source": [
    "messages=graph.invoke({\"messages\":HumanMessage(content=\"Provide me the top 10 recent AI news for october 10 2025,add 5 plus 5 and then multiply by 10\")})\n",
    "for m in messages['messages']:\n",
    "    m.pretty_print()"
   ]
  },
  {
   "cell_type": "code",
   "execution_count": 24,
   "id": "d5a7404f",
   "metadata": {},
   "outputs": [
    {
     "name": "stdout",
     "output_type": "stream",
     "text": [
      "================================\u001b[1m Human Message \u001b[0m=================================\n",
      "\n",
      "What is machine learning\n",
      "==================================\u001b[1m Ai Message \u001b[0m==================================\n",
      "Tool Calls:\n",
      "  wikipedia (fxn7aw85m)\n",
      " Call ID: fxn7aw85m\n",
      "  Args:\n",
      "    query: Machine learning\n",
      "=================================\u001b[1m Tool Message \u001b[0m=================================\n",
      "Name: wikipedia\n",
      "\n",
      "Page: Machine learning\n",
      "Summary: Machine learning (ML) is a field of study in artificial intelligence concerned with the development and study of statistical algorithms that can learn from data and generalise to unseen data, and thus perform tasks without explicit instructions. Within a subdiscipline in machine learning, advances in the field of deep learning have allowed neural networks, a class of statistical algorithms, to surpass many previous machine learning approaches in performance.\n",
      "ML fi\n",
      "==================================\u001b[1m Ai Message \u001b[0m==================================\n",
      "Tool Calls:\n",
      "  wikipedia (eh50bv41n)\n",
      " Call ID: eh50bv41n\n",
      "  Args:\n",
      "    query: Deep learning\n",
      "=================================\u001b[1m Tool Message \u001b[0m=================================\n",
      "Name: wikipedia\n",
      "\n",
      "Page: Deep learning\n",
      "Summary: In machine learning, deep learning focuses on utilizing multilayered neural networks to perform tasks such as classification, regression, and representation learning. The field takes inspiration from biological neuroscience and is centered around stacking artificial neurons into layers and \"training\" them to process data. The adjective \"deep\" refers to the use of multiple layers (ranging from three to several hundred or thousands) in the network. Methods used can be \n",
      "==================================\u001b[1m Ai Message \u001b[0m==================================\n",
      "Tool Calls:\n",
      "  arxiv (kz0fgt7tb)\n",
      " Call ID: kz0fgt7tb\n",
      "  Args:\n",
      "    query: deep learning\n",
      "=================================\u001b[1m Tool Message \u001b[0m=================================\n",
      "Name: arxiv\n",
      "\n",
      "Published: 2018-05-22\n",
      "Title: Opening the black box of deep learning\n",
      "Authors: Dian Lei, Xiaoxiao Chen, Jianfei Zhao\n",
      "Summary: The great success of deep learning shows that its technology contains\n",
      "profound truth, and understanding its internal mechanism not only has important\n",
      "implications for the development of its technology and effective application in\n",
      "various fields, but also provides meaningful insights into the understanding of\n",
      "human brain mechanism. At present, most of the theoretical researc\n",
      "==================================\u001b[1m Ai Message \u001b[0m==================================\n",
      "\n",
      "This information gives a good overview of machine learning and deep learning concepts.\n"
     ]
    }
   ],
   "source": [
    "messages=graph.invoke({\"messages\":HumanMessage(content=\"What is machine learning\")})\n",
    "for m in messages['messages']:\n",
    "    m.pretty_print()"
   ]
  },
  {
   "cell_type": "markdown",
   "id": "cc9f1a56",
   "metadata": {},
   "source": [
    "# What is Agent Memory?\n",
    "\n",
    "**Agent Memory** refers to a system that allows an AI agent to **remember past interactions or important information** over time. Just like humans use memory to continue a meaningful conversation or keep track of tasks, an AI agent with memory becomes **more intelligent, personal, and context-aware**.\n"
   ]
  },
  {
   "cell_type": "markdown",
   "id": "1cb4f1c4",
   "metadata": {},
   "source": [
    "# Example showing why it didnt recall"
   ]
  },
  {
   "cell_type": "code",
   "execution_count": 25,
   "id": "2c983161",
   "metadata": {},
   "outputs": [
    {
     "name": "stdout",
     "output_type": "stream",
     "text": [
      "================================\u001b[1m Human Message \u001b[0m=================================\n",
      "\n",
      "What is 5 plus 8\n",
      "==================================\u001b[1m Ai Message \u001b[0m==================================\n",
      "Tool Calls:\n",
      "  add (dtk927kh7)\n",
      " Call ID: dtk927kh7\n",
      "  Args:\n",
      "    a: 5\n",
      "    b: 8\n",
      "=================================\u001b[1m Tool Message \u001b[0m=================================\n",
      "Name: add\n",
      "\n",
      "13\n",
      "==================================\u001b[1m Ai Message \u001b[0m==================================\n",
      "\n",
      "Note: The output '13' is a result of the function call, not a part of the function call itself.\n"
     ]
    }
   ],
   "source": [
    "messages=graph.invoke({\"messages\":HumanMessage(content=\"What is 5 plus 8\")})\n",
    "for m in messages['messages']:\n",
    "    m.pretty_print()"
   ]
  },
  {
   "cell_type": "code",
   "execution_count": 27,
   "id": "c61b2c20",
   "metadata": {},
   "outputs": [
    {
     "name": "stdout",
     "output_type": "stream",
     "text": [
      "================================\u001b[1m Human Message \u001b[0m=================================\n",
      "\n",
      "Divide that by 5\n",
      "==================================\u001b[1m Ai Message \u001b[0m==================================\n",
      "Tool Calls:\n",
      "  divide (50jdxp5p7)\n",
      " Call ID: 50jdxp5p7\n",
      "  Args:\n",
      "    a: 15\n",
      "    b: 5\n",
      "=================================\u001b[1m Tool Message \u001b[0m=================================\n",
      "Name: divide\n",
      "\n",
      "3.0\n",
      "==================================\u001b[1m Ai Message \u001b[0m==================================\n",
      "\n",
      "Since you didn't specify what to divide by 5, I assumed it was 15. Please let me know if that's correct or if you need to divide something else by 5.\n"
     ]
    }
   ],
   "source": [
    "messages=[HumanMessage(content=\"Divide that by 5\")]\n",
    "messages=graph.invoke({\"messages\":messages})\n",
    "for m in messages['messages']:\n",
    "    m.pretty_print()"
   ]
  },
  {
   "cell_type": "markdown",
   "id": "a5688bbb",
   "metadata": {},
   "source": [
    "### So It didnt recall my previous response thats why we will use  memory saver that store or recall our previous conversations"
   ]
  },
  {
   "cell_type": "markdown",
   "id": "d40a3f68",
   "metadata": {},
   "source": [
    "### 🧠 What is **MemorySaver** in LangGraph?\n",
    "\n",
    "In **LangGraph**, `MemorySaver` is a lightweight memory mechanism that helps agents **store their conversation or state efficiently across steps** without consuming a lot of memory. It is especially useful when building **long-running agents** or workflows where you need to maintain state but want to avoid storing the full chat history in memory.\n",
    "\n",
    "### 🚫 When Not to Use `MemorySaver`\n",
    "\n",
    "### ✅ Quick Recommendation\n",
    "\n",
    "| Use Case         | Best Option                           |\n",
    "| ---------------- | ------------------------------------- |\n",
    "| Testing locally  | ✅ MemorySaver                         |\n",
    "| Small demo app   | ✅ MemorySaver                         |\n",
    "| Production applications     | ❌ It's **not persistent**—memory resets if server restarts               |\n",
    "|**Large histories or complex workflows**    | Might **overflow memory** because it runs **in RAM only|\n",
    "| Enterprise agent | ❌ Use SQLCheckpointer + Redis caching |"
   ]
  },
  {
   "cell_type": "markdown",
   "id": "a88b7d6e",
   "metadata": {},
   "source": [
    "# **All we need to do is simply compile the graph with a checkpointer, and our graph has memory!**"
   ]
  },
  {
   "cell_type": "code",
   "execution_count": 28,
   "id": "f6aae173",
   "metadata": {},
   "outputs": [],
   "source": [
    "## Initialize my LLM model\n",
    "\n",
    "from langchain_groq import ChatGroq\n",
    "\n",
    "llm=ChatGroq(model=\"llama-3.1-8b-instant\")\n",
    "\n",
    "llm_with_tools=llm.bind_tools(tools)"
   ]
  },
  {
   "cell_type": "code",
   "execution_count": 29,
   "id": "2873b321",
   "metadata": {},
   "outputs": [
    {
     "data": {
      "text/plain": [
       "<langgraph.graph.state.StateGraph at 0x1b6840fd600>"
      ]
     },
     "execution_count": 29,
     "metadata": {},
     "output_type": "execute_result"
    }
   ],
   "source": [
    "### Entire Chatbot With LangGraph\n",
    "from IPython.display import Image, display\n",
    "from langgraph.graph import StateGraph, START, END\n",
    "from langgraph.prebuilt import ToolNode\n",
    "from langgraph.prebuilt import tools_condition\n",
    "\n",
    "### Node definition\n",
    "def tool_calling_llm(state:State):\n",
    "    return {\"messages\":[llm_with_tools.invoke(state[\"messages\"])]}\n",
    "\n",
    "# Build graph\n",
    "builder = StateGraph(State)\n",
    "builder.add_node(\"tool_calling_llm\", tool_calling_llm)\n",
    "builder.add_node(\"tools\", ToolNode(tools))\n",
    "\n",
    "builder.add_edge(START, \"tool_calling_llm\")\n",
    "builder.add_conditional_edges(\n",
    "    \"tool_calling_llm\",\n",
    "    # If the latest message (result) from assistant is a tool call -> tools_condition routes to tools\n",
    "    # If the latest message (result) from assistant is a not a tool call -> tools_condition routes to END\n",
    "    tools_condition,\n",
    ")\n",
    "builder.add_edge(\"tools\",\"tool_calling_llm\")\n",
    "\n",
    "\n"
   ]
  },
  {
   "cell_type": "code",
   "execution_count": 30,
   "id": "89f46965",
   "metadata": {},
   "outputs": [
    {
     "data": {
      "image/png": "[encoded data removed]",
      "text/plain": [
       "<IPython.core.display.Image object>"
      ]
     },
     "metadata": {},
     "output_type": "display_data"
    }
   ],
   "source": [
    "from langgraph.checkpoint.memory import MemorySaver\n",
    "memory=MemorySaver()\n",
    "graph_memory = builder.compile(checkpointer=memory)\n",
    "\n",
    "# View\n",
    "display(Image(graph_memory.get_graph().draw_mermaid_png()))"
   ]
  },
  {
   "cell_type": "code",
   "execution_count": 31,
   "id": "e836387b",
   "metadata": {},
   "outputs": [
    {
     "name": "stdout",
     "output_type": "stream",
     "text": [
      "================================\u001b[1m Human Message \u001b[0m=================================\n",
      "\n",
      "Add 12 and 13.\n",
      "==================================\u001b[1m Ai Message \u001b[0m==================================\n",
      "Tool Calls:\n",
      "  add (twzbtvzqt)\n",
      " Call ID: twzbtvzqt\n",
      "  Args:\n",
      "    a: 12\n",
      "    b: 13\n",
      "=================================\u001b[1m Tool Message \u001b[0m=================================\n",
      "Name: add\n",
      "\n",
      "25\n",
      "==================================\u001b[1m Ai Message \u001b[0m==================================\n",
      "\n",
      "The function 'add' returns the result of the addition of its two parameters. In this case, 'a' is 12 and 'b' is 13, so the result is 25.\n"
     ]
    }
   ],
   "source": [
    "## Specify the thread\n",
    "# Each conversation session is given a unique thread_id.\n",
    "config={\"configurable\":{\"thread_id\":\"1\"}} # If you use the same thread_id, the model remembers previous steps.\n",
    "# Specify an input                        # If you use a new thread_id, it starts a fresh conversation.\n",
    "messages = [HumanMessage(content=\"Add 12 and 13.\")]\n",
    "messages=graph_memory.invoke({\"messages\":messages},config=config)\n",
    "for m in messages['messages']:\n",
    "    m.pretty_print()"
   ]
  },
  {
   "cell_type": "code",
   "execution_count": 32,
   "id": "be6f2c25",
   "metadata": {},
   "outputs": [
    {
     "name": "stdout",
     "output_type": "stream",
     "text": [
      "================================\u001b[1m Human Message \u001b[0m=================================\n",
      "\n",
      "Add 12 and 13.\n",
      "==================================\u001b[1m Ai Message \u001b[0m==================================\n",
      "Tool Calls:\n",
      "  add (twzbtvzqt)\n",
      " Call ID: twzbtvzqt\n",
      "  Args:\n",
      "    a: 12\n",
      "    b: 13\n",
      "=================================\u001b[1m Tool Message \u001b[0m=================================\n",
      "Name: add\n",
      "\n",
      "25\n",
      "==================================\u001b[1m Ai Message \u001b[0m==================================\n",
      "\n",
      "The function 'add' returns the result of the addition of its two parameters. In this case, 'a' is 12 and 'b' is 13, so the result is 25.\n",
      "================================\u001b[1m Human Message \u001b[0m=================================\n",
      "\n",
      "add that number to 25\n",
      "==================================\u001b[1m Ai Message \u001b[0m==================================\n",
      "Tool Calls:\n",
      "  add (h4nbjqrq3)\n",
      " Call ID: h4nbjqrq3\n",
      "  Args:\n",
      "    a: 25\n",
      "    b: 25\n",
      "=================================\u001b[1m Tool Message \u001b[0m=================================\n",
      "Name: add\n",
      "\n",
      "50\n",
      "==================================\u001b[1m Ai Message \u001b[0m==================================\n",
      "\n",
      "The function 'add' takes the result of the previous addition, which is 25, and adds 25 to it, resulting in 50.\n"
     ]
    }
   ],
   "source": [
    "messages = [HumanMessage(content=\"add that number to 25\")]\n",
    "messages=graph_memory.invoke({\"messages\":messages},config=config)\n",
    "for m in messages['messages']:\n",
    "    m.pretty_print()"
   ]
  },
  {
   "cell_type": "code",
   "execution_count": 33,
   "id": "e1c13b39",
   "metadata": {},
   "outputs": [
    {
     "name": "stdout",
     "output_type": "stream",
     "text": [
      "================================\u001b[1m Human Message \u001b[0m=================================\n",
      "\n",
      "Add 12 and 13.\n",
      "==================================\u001b[1m Ai Message \u001b[0m==================================\n",
      "Tool Calls:\n",
      "  add (twzbtvzqt)\n",
      " Call ID: twzbtvzqt\n",
      "  Args:\n",
      "    a: 12\n",
      "    b: 13\n",
      "=================================\u001b[1m Tool Message \u001b[0m=================================\n",
      "Name: add\n",
      "\n",
      "25\n",
      "==================================\u001b[1m Ai Message \u001b[0m==================================\n",
      "\n",
      "The function 'add' returns the result of the addition of its two parameters. In this case, 'a' is 12 and 'b' is 13, so the result is 25.\n",
      "================================\u001b[1m Human Message \u001b[0m=================================\n",
      "\n",
      "add that number to 25\n",
      "==================================\u001b[1m Ai Message \u001b[0m==================================\n",
      "Tool Calls:\n",
      "  add (h4nbjqrq3)\n",
      " Call ID: h4nbjqrq3\n",
      "  Args:\n",
      "    a: 25\n",
      "    b: 25\n",
      "=================================\u001b[1m Tool Message \u001b[0m=================================\n",
      "Name: add\n",
      "\n",
      "50\n",
      "==================================\u001b[1m Ai Message \u001b[0m==================================\n",
      "\n",
      "The function 'add' takes the result of the previous addition, which is 25, and adds 25 to it, resulting in 50.\n",
      "================================\u001b[1m Human Message \u001b[0m=================================\n",
      "\n",
      "then multiplty that number by 2\n",
      "==================================\u001b[1m Ai Message \u001b[0m==================================\n",
      "Tool Calls:\n",
      "  multiply (55jq60mjc)\n",
      " Call ID: 55jq60mjc\n",
      "  Args:\n",
      "    a: 50\n",
      "    b: 2\n",
      "=================================\u001b[1m Tool Message \u001b[0m=================================\n",
      "Name: multiply\n",
      "\n",
      "100\n",
      "==================================\u001b[1m Ai Message \u001b[0m==================================\n",
      "\n",
      "The function 'multiply' takes the result of the previous addition, which is 50, and multiplies it by 2, resulting in 100.\n"
     ]
    }
   ],
   "source": [
    "messages = [HumanMessage(content=\"then multiplty that number by 2\")]\n",
    "messages=graph_memory.invoke({\"messages\":messages},config=config)\n",
    "for m in messages['messages']:\n",
    "    m.pretty_print()"
   ]
  }
 ],
 "metadata": {
  "kernelspec": {
   "display_name": "data_science",
   "language": "python",
   "name": "python3"
  },
  "language_info": {
   "codemirror_mode": {
    "name": "ipython",
    "version": 3
   },
   "file_extension": ".py",
   "mimetype": "text/x-python",
   "name": "python",
   "nbconvert_exporter": "python",
   "pygments_lexer": "ipython3",
   "version": "3.10.0"
  }
 },
 "nbformat": 4,
 "nbformat_minor": 5
}
