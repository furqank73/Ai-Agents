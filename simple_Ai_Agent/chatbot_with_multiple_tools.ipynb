{
 "cells": [
  {
   "cell_type": "markdown",
   "id": "a9929d1f",
   "metadata": {},
   "source": [
    "### Building Chatbot With Multiple Tools Using Langgraph\n",
    "\n",
    "#### Aim\n",
    "Create a chatbot with tool capabilities from arxiv, wikipedia search and some functions\n",
    "| Tool                        | Purpose                                                           |\n",
    "| --------------------------- | ----------------------------------------------------------------- |\n",
    "| **Arxiv**               | Search scientific research papers                                 |\n",
    "| **Wikipedia Search**        | Get general knowledge or factual information                      |\n",
    "| **Custom Python Functions** | Solve user-defined tasks like calculations, data processing, etc. |\n"
   ]
  },
  {
   "cell_type": "code",
   "execution_count": 1,
   "id": "c0857964",
   "metadata": {},
   "outputs": [],
   "source": [
    "from langchain_community.tools import ArxivQueryRun,WikipediaQueryRun\n",
    "from langchain_community.utilities import WikipediaAPIWrapper,ArxivAPIWrapper"
   ]
  },
  {
   "cell_type": "code",
   "execution_count": 2,
   "id": "bfb49998",
   "metadata": {},
   "outputs": [
    {
     "name": "stdout",
     "output_type": "stream",
     "text": [
      "arxiv\n"
     ]
    }
   ],
   "source": [
    "api_wrapper_arxiv=ArxivAPIWrapper(top_k_results=2,doc_content_chars_max=500)\n",
    "arxiv=ArxivQueryRun(api_wrapper=api_wrapper_arxiv)\n",
    "print(arxiv.name)"
   ]
  },
  {
   "cell_type": "markdown",
   "id": "1535d8d3",
   "metadata": {},
   "source": [
    "### What is happening here?\n",
    "\n",
    "This code is setting up a **tool** for searching research papers on **ArXiv** (a website with scientific research papers). This tool will later be used by our chatbot.\n",
    "\n",
    "\n",
    "#### 1. Create the Arxiv API Wrapper\n",
    "* `ArxivAPIWrapper` is a **helper class** that connects to the ArXiv API.\n",
    "* `top_k_results=2` → It will return only the **top 2 papers** relevant to the search query.\n",
    "* `doc_content_chars_max=500` → Limits the **maximum number of characters** returned from each document, so the result doesn’t become too long.\n",
    "\n",
    "✔️ This line prepares a connection to ArXiv with **search limits**."
   ]
  },
  {
   "cell_type": "code",
   "execution_count": 3,
   "id": "04ea584a",
   "metadata": {},
   "outputs": [
    {
     "data": {
      "text/plain": [
       "\"Published: 2024-07-22\\nTitle: Attention Is All You Need But You Don't Need All Of It For Inference of Large Language Models\\nAuthors: Georgy Tyukin, Gbetondji J-S Dovonon, Jean Kaddour, Pasquale Minervini\\nSummary: The inference demand for LLMs has skyrocketed in recent months, and serving\\nmodels with low latencies remains challenging due to the quadratic input length\\ncomplexity of the attention layers. In this work, we investigate the effect of\\ndropping MLP and attention layers at inference time o\""
      ]
     },
     "execution_count": 3,
     "metadata": {},
     "output_type": "execute_result"
    }
   ],
   "source": [
    "arxiv.invoke(\"Attention iss all you need\")"
   ]
  },
  {
   "cell_type": "markdown",
   "id": "ef5efbde",
   "metadata": {},
   "source": [
    "# **Same as above but this time wikipedia tool**"
   ]
  },
  {
   "cell_type": "code",
   "execution_count": 4,
   "id": "7ba7cc0c",
   "metadata": {},
   "outputs": [
    {
     "data": {
      "text/plain": [
       "'wikipedia'"
      ]
     },
     "execution_count": 4,
     "metadata": {},
     "output_type": "execute_result"
    }
   ],
   "source": [
    "api_wrapper_wiki=WikipediaAPIWrapper(top_k_results=1,doc_content_chars_max=500)\n",
    "wiki=WikipediaQueryRun(api_wrapper=api_wrapper_wiki)\n",
    "wiki.name"
   ]
  },
  {
   "cell_type": "code",
   "execution_count": 5,
   "id": "ab034495",
   "metadata": {},
   "outputs": [
    {
     "data": {
      "text/plain": [
       "'Page: Machine learning\\nSummary: Machine learning (ML) is a field of study in artificial intelligence concerned with the development and study of statistical algorithms that can learn from data and generalise to unseen data, and thus perform tasks without explicit instructions. Within a subdiscipline in machine learning, advances in the field of deep learning have allowed neural networks, a class of statistical algorithms, to surpass many previous machine learning approaches in performance.\\nML fi'"
      ]
     },
     "execution_count": 5,
     "metadata": {},
     "output_type": "execute_result"
    }
   ],
   "source": [
    "wiki.invoke(\"What is machine learning\")"
   ]
  },
  {
   "cell_type": "code",
   "execution_count": 6,
   "id": "2292367c",
   "metadata": {},
   "outputs": [],
   "source": [
    "from dotenv import load_dotenv\n",
    "load_dotenv()\n",
    "\n",
    "import os\n",
    "\n",
    "os.environ[\"TAVILY_API_KEY\"]=os.getenv(\"TAVILY_API_KEY\")\n",
    "os.environ[\"GROQ_API_KEY\"]=os.getenv(\"GROQ_API_KEY\")\n",
    "\n"
   ]
  },
  {
   "cell_type": "markdown",
   "id": "8fc19178",
   "metadata": {},
   "source": [
    "### **Tavily** is an **AI-powered search API** designed specifically for **retrieval-augmented generation (RAG)**, **chatbots**, and **AI agents**. Instead of just returning raw web links like Google or Bing, Tavily returns **clean, structured, factual results** that are easy for LLMs (like GPT models) to understand and use."
   ]
  },
  {
   "cell_type": "code",
   "execution_count": 7,
   "id": "0559f570",
   "metadata": {},
   "outputs": [
    {
     "name": "stderr",
     "output_type": "stream",
     "text": [
      "C:\\Users\\Furqan Khan\\AppData\\Local\\Temp\\ipykernel_6424\\3584238.py:4: LangChainDeprecationWarning: The class `TavilySearchResults` was deprecated in LangChain 0.3.25 and will be removed in 1.0. An updated version of the class exists in the :class:`~langchain-tavily package and should be used instead. To use it run `pip install -U :class:`~langchain-tavily` and import as `from :class:`~langchain_tavily import TavilySearch``.\n",
      "  tavily = TavilySearchResults()\n"
     ]
    }
   ],
   "source": [
    "### Tavily Search Tool\n",
    "from langchain_community.tools.tavily_search import TavilySearchResults\n",
    "\n",
    "tavily = TavilySearchResults()"
   ]
  },
  {
   "cell_type": "code",
   "execution_count": 8,
   "id": "80dd7aa9",
   "metadata": {},
   "outputs": [
    {
     "data": {
      "text/plain": [
       "[{'title': 'Have you heard these exciting AI news? – October 10, 2025 AI ...',\n",
       "  'url': 'https://www.franksworld.com/2025/10/15/have-you-heard-these-exciting-ai-news-october-10-2025-ai-updates-weekly/',\n",
       "  'content': \"Frank's World of Data Science & AI\\n\\n#### What is Happening with Ukraine’s Robot Attack Dogs\\n\\n#### Why You Keep Logging In: Zero Trust Security Explained Simply\\n\\n#### Machine Learning Project For Beginners with XGBoost + NVIDIA GPU 🤖🧠\\n\\n#### A Peek Inside the data centers powering the US economy\\n\\n#### “SIM Farms” Found in U.S.: What That Means for You!\\n\\n# Have you heard these exciting AI news? – October 10, 2025 AI Updates Weekly [...] Moreover, the discussions around Gemini Claude and OpenAI’s developments reveal a burgeoning strategy to blend AI tools seamlessly into business ecosystems. Google’s Gemini Enterprise and OpenAI’s agent kit suggest a future where AI’s role transcends simple tasks to complex decision-making processes and system management within corporate structures. Notably, AI’s integration with tools like Google Workspace and SharePoint is an illustration of AI’s expanding role as a cooperative tool that [...] A central thread in this week’s tapestry of updates is the rapid adaptation and integration of AI across different sectors, notably in how jobs are outsourced to AI with increasing frequency and efficiency. This phenomenon isn’t just limited to routine administrative tasks. Sophisticated roles, once thought the exclusive domain of human intellect, are now being performed by AI. This raises a pivotal question: As AI becomes more intertwined with what were traditionally human professions, how do\",\n",
       "  'score': 0.8700796},\n",
       " {'title': 'AI Just Got Personal: The October 2025 Updates That Changed ...',\n",
       "  'url': 'https://medium.com/@Micheal-Lanham/ai-just-got-personal-the-october-2025-updates-that-changed-everything-200610abf811',\n",
       "  'content': 'Remember when AI assistants were just fancy search boxes? Those days are over. October 2025 brought a wave of updates that fundamentally changed how we interact with AI. Instead of waiting for you to type a question, your AI now works while you sleep, books your hotels mid-conversation, and creates videos from a single sentence.\\n\\nIf you’ve been paying attention to the AI space, you know things move fast. But this month? It felt different. Let’s dive into what actually matters. [...] Sign up\\n\\nSign in\\n\\nSign up\\n\\nSign in\\n\\nMember-only story\\n\\n# AI Just Got Personal: The October 2025 Updates That Changed Everything\\n\\nMicheal Lanham\\n\\n--\\n\\nShare\\n\\nYour AI assistant doesn’t just answer questions anymore — it predicts what you need before you ask [...] ## The Bottom Line Up Front\\n\\nChatGPT now works for you overnight. Third-party apps live inside conversations. Adobe’s AI creates production-ready graphics. Meta launched an AI video feed. And the chatbot market just got a lot more competitive.\\n\\nHere’s what you need to know.\\n\\n--\\n\\n--\\n\\nMicheal Lanham\\nMicheal Lanham\\n\\n## Written by Micheal Lanham\\n\\nMicheal Lanham is a proven software and tech innovator with 20 years of experience developing games, graphics and machine learning AI apps.',\n",
       "  'score': 0.8684817},\n",
       " {'title': 'AI News | October 11–17, 2025: 10 Most Significant AI ... - Medium',\n",
       "  'url': 'https://medium.com/@CherryZhouTech/ai-news-october-11-17-2025-10-most-significant-ai-developments-this-week-ae2245fc4885',\n",
       "  'content': 'Sign up\\n\\nSign in\\n\\nSign up\\n\\nSign in\\n\\n# AI News | October 11–17, 2025: 10 Most Significant AI Developments This Week\\n\\n## Get caught up on all the latest tools from OpenAI, Google, Anthropic, and more.\\n\\nCherryZhou\\n\\n--\\n\\nListen\\n\\nShare\\n\\nAI News | October 11–17\\n\\nWelcome to this week’s AI News Roundup!\\n\\nLet’s explore the most exciting breakthroughs and real-world applications happening in the world of AI.\\n\\n### 1. Claude Introduces “Skills” Feature [...] ### 5. Google Rolls Out Gemini 3.0 Pro to Limited Users\\n\\nGoogle’s DeepMind team has begun a phased release of the Gemini 3.0 Pro model to select users. Those accessing the Gemini web app have received upgrade notifications describing it as the “smartest model to date.”\\n\\nThis follows earlier A/B testing for developers in Gemini AI Studio, with a broader public release expected by late October.\\n\\n### 6. Musk Announces X Platform’s AI-Powered Recommendation Algorithm [...] Elon Musk has revealed that social media platform X will soon introduce an updated recommendation algorithm fully driven by artificial intelligence.\\n\\nAccording to Musk, users will notice improved feed relevance due to advanced AI tools like Grok, rather than changes in user behavior. The update aims to enhance content discovery across the platform.\\n\\n### 7. ChatGPT Introduces Smart Memory Management',\n",
       "  'score': 0.82560414},\n",
       " {'title': 'AI Weekly News (October 14–20, 2025) | by ZIRU | Oct, 2025 | Medium',\n",
       "  'url': 'https://medium.com/@jh.baek.sd/%EF%B8%8F-ai-weekly-news-october-14-20-2025-5a44a2f236a8',\n",
       "  'content': 'Sign up\\n\\nSign in\\n\\nSign up\\n\\nSign in\\n\\nMember-only story\\n\\n# 🗓️ AI Weekly News (October 14–20, 2025)\\n\\n## 🔥 This Week’s Top Stories\\n\\nZIRU\\n\\n--\\n\\nShare\\n\\nHello everyone!\\n\\nStarting today, I’ll be sending you weekly AI updates every Monday. I hope these summaries help you stay up-to-date with what’s happening in the AI world!\\n\\n## 1. Anthropic Launches Claude Skills and Haiku 4.5\\n\\nAnnounced: October 15, 2025 [...] Anthropic introduced a new paradigm for AI agents called Claude Skills. Skills are folder-based components that include commands, scripts, and resources that Claude loads dynamically when working on tasks.\\n\\nKey Features:\\n\\nThey also launched the Claude Haiku 4.5 model. It’s 2x faster and costs 1/3 as much as the previous version. In coding benchmarks, it performed better than GPT-4 Turbo and Gemini 2.0 Flash.\\n\\nReference Links:\\n\\n--\\n\\n--\\n\\nZIRU\\nZIRU\\n\\n## Written by ZIRU [...] Lead Principal Data Scientist | Saab Inc. | Depence AI Specialist | San Diego | UCSD | \\n\\n## No responses yet\\n\\nHelp\\n\\nStatus\\n\\nAbout\\n\\nCareers\\n\\nPress\\n\\nBlog\\n\\nPrivacy\\n\\nRules\\n\\nTerms\\n\\nText to speech',\n",
       "  'score': 0.68140936},\n",
       " {'title': 'AI News | Latest Headlines and Developments | Reuters',\n",
       "  'url': 'https://www.reuters.com/technology/artificial-intelligence/',\n",
       "  'content': 'SoftBank has approved a second installment of $22.5 billion to complete its $30 billion investment in OpenAI, tech news website the Information reported on Saturday.\\n\\nIllustration shows OpenAI logo\\n\\n## Reuters Events Logo\\n\\nReuters Events Logo\\n\\nEvent\\n\\n17-18 Nov 2025 · New York, USA\\n\\nArtificial Intelligence silicon chip with Reuters logo\\n\\nEvent\\n\\n27-28 Apr 2026 · New York, USA\\n\\nArtificial Intelligence Chip with Reuters logo\\n\\nEvent\\n\\nJune 2026 · London, USA [...] All quotes delayed a minimum of 15 minutes. See here for a complete list of exchanges and delays.\\n\\n© 2025 Reuters. All rights reserved [...] ### Workspace, opens new tab Access unmatched financial data, news and content in a highly-customised workflow experience on desktop, web and mobile.\\n\\nAccess unmatched financial data, news and content in a highly-customised workflow experience on desktop, web and mobile.\\n\\n### Data Catalogue, opens new tab Browse an unrivalled portfolio of real-time and historical market data and insights from worldwide sources and experts.',\n",
       "  'score': 0.6641271}]"
      ]
     },
     "execution_count": 8,
     "metadata": {},
     "output_type": "execute_result"
    }
   ],
   "source": [
    "tavily.invoke(\"Provide me the recent AI news for october 10 2025\")"
   ]
  },
  {
   "cell_type": "markdown",
   "id": "edeef9d7",
   "metadata": {},
   "source": [
    "# Combine all the tools in the list"
   ]
  },
  {
   "cell_type": "code",
   "execution_count": 9,
   "id": "3358c442",
   "metadata": {},
   "outputs": [],
   "source": [
    "### Combine all the tools in the list\n",
    "\n",
    "tools=[arxiv,wiki,tavily]"
   ]
  },
  {
   "cell_type": "markdown",
   "id": "b8fced7d",
   "metadata": {},
   "source": [
    "# Initialize LLM model"
   ]
  },
  {
   "cell_type": "code",
   "execution_count": 10,
   "id": "14a85425",
   "metadata": {},
   "outputs": [],
   "source": [
    "## Initialize my LLM model\n",
    "\n",
    "from langchain_groq import ChatGroq\n",
    "\n",
    "llm=ChatGroq(model=\"llama-3.1-8b-instant\")\n",
    "\n",
    "llm_with_tools=llm.bind_tools(tools)"
   ]
  },
  {
   "cell_type": "code",
   "execution_count": 11,
   "id": "80d8dea3",
   "metadata": {},
   "outputs": [
    {
     "data": {
      "text/plain": [
       "AIMessage(content=\"I'm an AI model trained until 2023, and I don't have real-time access to current events or news. However, I can suggest some possible sources where you can find the recent AI news for October 10, 2025:\\n\\n1. **TechCrunch**: A popular technology news site that covers AI, startup news, and emerging trends.\\n2. **The Verge**: A technology news site that provides in-depth coverage of AI, robotics, and other emerging technologies.\\n3. **MIT Technology Review**: A magazine that focuses on emerging technologies, including AI, robotics, and biotech.\\n4. **Reuters**: A global news agency that provides up-to-date coverage of AI and other technology news.\\n5. **Google News**: A news aggregator that collects articles from various sources and provides a comprehensive view of the latest AI news.\\n\\nIf I had to predict some possible AI news for October 10, 2025, based on trends and developments, here are a few possibilities:\\n\\n* **Advances in Explainable AI (XAI)**: There may be breakthroughs in XAI, which aims to provide insights into AI decision-making processes.\\n* **New AI-powered healthcare applications**: AI-powered diagnostic tools, personalized medicine, or robotic surgery systems may be announced.\\n* **Increased adoption of AI in finance**: AI-driven trading platforms, risk management systems, or chatbots for customer support may be introduced.\\n* **Developments in AI for climate change**: AI-powered climate modeling, carbon capture technologies, or sustainable energy systems may be showcased.\\n* **Mergers and acquisitions in the AI space**: There may be announcements of mergers or acquisitions between AI startups or established companies.\\n\\nPlease note that these are just hypothetical possibilities and not actual news. For the most up-to-date information, I recommend checking the sources mentioned above.\", additional_kwargs={}, response_metadata={'token_usage': {'completion_tokens': 371, 'prompt_tokens': 49, 'total_tokens': 420, 'completion_time': 0.534960998, 'prompt_time': 0.002625, 'queue_time': 0.04798381, 'total_time': 0.537585998}, 'model_name': 'llama-3.1-8b-instant', 'system_fingerprint': 'fp_e32974efee', 'service_tier': 'on_demand', 'finish_reason': 'stop', 'logprobs': None}, id='run--94c25e23-01e5-4585-8dd5-073ddc161ce4-0', usage_metadata={'input_tokens': 49, 'output_tokens': 371, 'total_tokens': 420})"
      ]
     },
     "execution_count": 11,
     "metadata": {},
     "output_type": "execute_result"
    }
   ],
   "source": [
    "llm.invoke(\"Provide me the recent AI news for october 10 2025\")"
   ]
  },
  {
   "cell_type": "code",
   "execution_count": 12,
   "id": "398e9cde",
   "metadata": {},
   "outputs": [
    {
     "data": {
      "text/plain": [
       "AIMessage(content='', additional_kwargs={'tool_calls': [{'id': 'eh4n38196', 'function': {'arguments': '{\"query\":\"Recent AI News\"}', 'name': 'tavily_search_results_json'}, 'type': 'function'}]}, response_metadata={'token_usage': {'completion_tokens': 20, 'prompt_tokens': 553, 'total_tokens': 573, 'completion_time': 0.027343484, 'prompt_time': 0.030487583, 'queue_time': 0.053142607, 'total_time': 0.057831067}, 'model_name': 'llama-3.1-8b-instant', 'system_fingerprint': 'fp_33e8adf159', 'service_tier': 'on_demand', 'finish_reason': 'tool_calls', 'logprobs': None}, id='run--daff2076-87ac-49de-9848-af570c6d0398-0', tool_calls=[{'name': 'tavily_search_results_json', 'args': {'query': 'Recent AI News'}, 'id': 'eh4n38196', 'type': 'tool_call'}], usage_metadata={'input_tokens': 553, 'output_tokens': 20, 'total_tokens': 573})"
      ]
     },
     "execution_count": 12,
     "metadata": {},
     "output_type": "execute_result"
    }
   ],
   "source": [
    "from pprint import pprint\n",
    "from langchain_core.messages import AIMessage, HumanMessage\n",
    "llm_with_tools.invoke([HumanMessage(content=f\"What is the recent AI News\")])"
   ]
  },
  {
   "cell_type": "markdown",
   "id": "3608e444",
   "metadata": {},
   "source": [
    "| Code Part                 | Purpose                  |\n",
    "| ------------------------- | ------------------------ |\n",
    "| `HumanMessage`            | Send user question to AI |\n",
    "| `llm_with_tools.invoke()` | Call AI agent            |\n",
    "| `\"recent AI News\"`        | Query asked              |\n",
    "| Tool-enabled model        | May call Wikipedia       |\n"
   ]
  },
  {
   "cell_type": "markdown",
   "id": "5b8b5691",
   "metadata": {},
   "source": [
    "# output\n",
    "| Field                                | Meaning                                                     |\n",
    "| ------------------------------------ | ----------------------------------------------------------- |\n",
    "| `AIMessage`                          | A message coming from the AI                                |\n",
    "| `tool_calls`                         | Means the AI wants to use a tool                            |\n",
    "| `name: 'tavily_search_results_json'` | Name of the tool chosen                                     |\n",
    "| `args: {'query': 'recent AI News'}`  | Search query passed to the tool                             |\n",
    "| `finish_reason: 'tool_calls'`        | Confirms the AI wants to call a tool, not give final answer |\n"
   ]
  },
  {
   "cell_type": "code",
   "execution_count": 13,
   "id": "d066a3df",
   "metadata": {},
   "outputs": [
    {
     "data": {
      "text/plain": [
       "[{'name': 'tavily_search_results_json',\n",
       "  'args': {'query': 'AI News'},\n",
       "  'id': 'ga24d6hqj',\n",
       "  'type': 'tool_call'}]"
      ]
     },
     "execution_count": 13,
     "metadata": {},
     "output_type": "execute_result"
    }
   ],
   "source": [
    "llm_with_tools.invoke([HumanMessage(content=f\"What is the recent AI News\")]).tool_calls"
   ]
  },
  {
   "cell_type": "code",
   "execution_count": 14,
   "id": "03fb0b9d",
   "metadata": {},
   "outputs": [],
   "source": [
    "## State Schema\n",
    "from typing_extensions import TypedDict\n",
    "from langchain_core.messages import AnyMessage\n",
    "from typing import Annotated\n",
    "from langgraph.graph.message import add_messages\n",
    "class State(TypedDict):\n",
    "    messages:Annotated[list[AnyMessage],add_messages]"
   ]
  },
  {
   "cell_type": "markdown",
   "id": "1c364fe6",
   "metadata": {},
   "source": [
    "| Line                                                  | Meaning                                                                        |\n",
    "| ----------------------------------------------------- | ------------------------------------------------------------------------------ |\n",
    "| `TypedDict`                                           | Used to define a dictionary-like data structure with specific fields and types |\n",
    "| `AnyMessage`                                          | Represents both `HumanMessage` and `AIMessage`                                 |\n",
    "| `Annotated`                                           | Adds extra behavior or metadata to a field                                     |\n",
    "| `add_messages`                                        | Tells LangGraph how to **append** new messages to history                      |\n",
    "| `messages: Annotated[list[AnyMessage], add_messages]` | State stores a **list of chat messages** and keeps adding new ones             |\n"
   ]
  },
  {
   "cell_type": "code",
   "execution_count": 15,
   "id": "a9b00cd1",
   "metadata": {},
   "outputs": [],
   "source": [
    "### Entire Chatbot With LangGraph\n",
    "from IPython.display import Image, display\n",
    "from langgraph.graph import StateGraph, START, END\n",
    "from langgraph.prebuilt import ToolNode\n",
    "from langgraph.prebuilt import tools_condition\n",
    "\n",
    "### Node definition\n",
    "def tool_calling_llm(state:State):\n",
    "    return {\"messages\":[llm_with_tools.invoke(state[\"messages\"])]}"
   ]
  },
  {
   "cell_type": "markdown",
   "id": "3fc91c9d",
   "metadata": {},
   "source": [
    "This function is a node in our chatbot. It takes current conversation state[\"messages\"], passes it to the AI model (llm_with_tools), and returns the new AI response.\n",
    "\n",
    "The response might:\n",
    "✅ Be a normal answer\n",
    "OR\n",
    "✅ Request a tool call"
   ]
  },
  {
   "cell_type": "code",
   "execution_count": 16,
   "id": "64e19ec5",
   "metadata": {},
   "outputs": [
    {
     "data": {
      "image/png": "[encoded data removed]",
      "text/plain": [
       "<IPython.core.display.Image object>"
      ]
     },
     "metadata": {},
     "output_type": "display_data"
    }
   ],
   "source": [
    "# Build graph\n",
    "builder = StateGraph(State)\n",
    "builder.add_node(\"tool_calling_llm\", tool_calling_llm)\n",
    "builder.add_node(\"tools\", ToolNode(tools))\n",
    "\n",
    "builder.add_edge(START, \"tool_calling_llm\")\n",
    "builder.add_conditional_edges(\n",
    "    \"tool_calling_llm\",\n",
    "    # If the latest message (result) from assistant is a tool call -> tools_condition routes to tools\n",
    "    # If the latest message (result) from assistant is a not a tool call -> tools_condition routes to END\n",
    "    tools_condition,\n",
    ")\n",
    "builder.add_edge(\"tools\", END)\n",
    "\n",
    "\n",
    "graph = builder.compile()\n",
    "\n",
    "# View\n",
    "display(Image(graph.get_graph().draw_mermaid_png()))\n"
   ]
  },
  {
   "cell_type": "markdown",
   "id": "5216de69",
   "metadata": {},
   "source": [
    "| Step                    | Purpose                           |\n",
    "| ----------------------- | --------------------------------- |\n",
    "| `tool_calling_llm` node | Calls AI with tools               |\n",
    "| `tools_condition`       | Checks if AI wants to call a tool |\n",
    "| `ToolNode(tools)`       | Executes the tool from where we Combine all the tools in the listtool[arxiv,wiki,tavily]                |\n",
    "| Graph                   | Controls flow                     |\n"
   ]
  },
  {
   "cell_type": "code",
   "execution_count": 17,
   "id": "99978d12",
   "metadata": {},
   "outputs": [
    {
     "name": "stdout",
     "output_type": "stream",
     "text": [
      "================================\u001b[1m Human Message \u001b[0m=================================\n",
      "\n",
      "1706.03762\n",
      "==================================\u001b[1m Ai Message \u001b[0m==================================\n",
      "Tool Calls:\n",
      "  arxiv (6v68qe5fj)\n",
      " Call ID: 6v68qe5fj\n",
      "  Args:\n",
      "    query: 1706.03762\n",
      "=================================\u001b[1m Tool Message \u001b[0m=================================\n",
      "Name: arxiv\n",
      "\n",
      "Published: 2023-08-02\n",
      "Title: Attention Is All You Need\n",
      "Authors: Ashish Vaswani, Noam Shazeer, Niki Parmar, Jakob Uszkoreit, Llion Jones, Aidan N. Gomez, Lukasz Kaiser, Illia Polosukhin\n",
      "Summary: The dominant sequence transduction models are based on complex recurrent or\n",
      "convolutional neural networks in an encoder-decoder configuration. The best\n",
      "performing models also connect the encoder and decoder through an attention\n",
      "mechanism. We propose a new simple network architecture, the Transformer, base\n"
     ]
    }
   ],
   "source": [
    "messages=graph.invoke({\"messages\":HumanMessage(content=\"1706.03762\")})\n",
    "for m in messages['messages']:\n",
    "    m.pretty_print()"
   ]
  },
  {
   "cell_type": "markdown",
   "id": "18e11b03",
   "metadata": {},
   "source": [
    "graph.invoke(...) is how you run the chatbot.\n",
    "\n",
    "Input format must follow the State Schema, so we send a dictionary with \"messages\".\n",
    "\n",
    "HumanMessage(content=\"1706.03762\") means the user input is \"1706.03762\"."
   ]
  },
  {
   "cell_type": "code",
   "execution_count": 18,
   "id": "be015cc5",
   "metadata": {},
   "outputs": [
    {
     "name": "stdout",
     "output_type": "stream",
     "text": [
      "================================\u001b[1m Human Message \u001b[0m=================================\n",
      "\n",
      "Provide me the top 10 recent AI news for october 10 2025\n",
      "==================================\u001b[1m Ai Message \u001b[0m==================================\n",
      "Tool Calls:\n",
      "  tavily_search_results_json (xtbnyw5vd)\n",
      " Call ID: xtbnyw5vd\n",
      "  Args:\n",
      "    query: Recent AI news October 10 2025\n",
      "=================================\u001b[1m Tool Message \u001b[0m=================================\n",
      "Name: tavily_search_results_json\n",
      "\n",
      "[{\"title\": \"Current AI Developments and Technology News On October 10\", \"url\": \"https://vavoza.com/current-ai-developments-and-technology-news-on-october-10-2025-vz5/\", \"content\": \"Picture of Vavoza Team\\n\\n# Current AI Developments and Technology News On October 10\\n\\nHere are the current AI developments, technology news, and business announcements on October 10, 2025:\\n\\n## Tech News and AI Developments\\n\\n## Trending AI Tools\\n\\nYou may also want to check out some of our other recent updates. [...] ### How AI Is Changing The Game At This Year’s World Series\\n\\n### Improve Your Sales Strategies With This Business Book In 2025\\n\\n### Every Entrepreneur Needs To Read This Business Book In November 2025\\n\\n### Learn How To Scale Your Business With This Viral Sales Book In 2025\\n\\nVAVOZA\\n\\n© 2025 VAVOZA, All Rights Reserved\\n\\nPrivacy Policy | Terms & Conditions\\n\\nWanna Know What’s  \\nTrending Online?\\n\\nSubscribe to access the latest business and marketing insights, news, and trends daily!\", \"score\": 0.9014448}, {\"title\": \"AI Just Got Personal: The October 2025 Updates That Changed ...\", \"url\": \"https://medium.com/@Micheal-Lanham/ai-just-got-personal-the-october-2025-updates-that-changed-everything-200610abf811\", \"content\": \"Remember when AI assistants were just fancy search boxes? Those days are over. October 2025 brought a wave of updates that fundamentally changed how we interact with AI. Instead of waiting for you to type a question, your AI now works while you sleep, books your hotels mid-conversation, and creates videos from a single sentence.\\n\\nIf you’ve been paying attention to the AI space, you know things move fast. But this month? It felt different. Let’s dive into what actually matters. [...] Sign up\\n\\nSign in\\n\\nSign up\\n\\nSign in\\n\\nMember-only story\\n\\n# AI Just Got Personal: The October 2025 Updates That Changed Everything\\n\\nMicheal Lanham\\n\\n--\\n\\nShare\\n\\nYour AI assistant doesn’t just answer questions anymore — it predicts what you need before you ask [...] ## The Bottom Line Up Front\\n\\nChatGPT now works for you overnight. Third-party apps live inside conversations. Adobe’s AI creates production-ready graphics. Meta launched an AI video feed. And the chatbot market just got a lot more competitive.\\n\\nHere’s what you need to know.\\n\\n--\\n\\n--\\n\\nMicheal Lanham\\nMicheal Lanham\\n\\n## Written by Micheal Lanham\\n\\nMicheal Lanham is a proven software and tech innovator with 20 years of experience developing games, graphics and machine learning AI apps.\", \"score\": 0.8886914}, {\"title\": \"Daily Digest on AI and Emerging Technologies (23 October 2025)\", \"url\": \"https://www.cgspam.org/daily-digest-on-ai-and-emerging-technologies-23-october-2025/\", \"content\": \"(AI Insider – 21 October 2025) Chipmind, a European startup specializing in AI agents for chip design, has launched Chipmind Agents to help semiconductor companies accelerate the path from specification to manufacturing. The agents integrate directly into existing electronic design automation (EDA) workflows, using proprietary customer data to autonomously execute complex design and verification tasks while keeping engineers in control. Backed by a $2.4 million pre-seed round led by Founderful, [...] (Nicolas Miailhe, Amanda Craig, Hector de Rivoire, Robert Trager – OECD.AI – 21 October 2025) As the “black box challenge”  remains central to the AI revolution, transparency has shifted from being a goal to a fundamental governance objective, shaping into an operational discipline for responsible and trustworthy innovation. Expectations are rising rapidly, and so too is the range of policy instruments to address them. As the number of instruments grows, fragmentation and interoperability gaps [...] (AI Insider – 21 October 2025) Researchers at the University of Waterloo have developed a new framework combining mathematics and machine learning to verify the safety and stability of AI systems that control critical infrastructure such as power grids and autonomous vehicles. The study, published in Automatica and supported by Waterloo’s TRuST Scholarly Network, uses neural networks to learn Lyapunov functions—key mathematical tools in control theory—paired with logic-based verification to\", \"score\": 0.86954874}, {\"title\": \"Have you heard these exciting AI news? – October 10, 2025 AI ...\", \"url\": \"https://www.franksworld.com/2025/10/15/have-you-heard-these-exciting-ai-news-october-10-2025-ai-updates-weekly/\", \"content\": \"Moreover, the discussions around Gemini Claude and OpenAI’s developments reveal a burgeoning strategy to blend AI tools seamlessly into business ecosystems. Google’s Gemini Enterprise and OpenAI’s agent kit suggest a future where AI’s role transcends simple tasks to complex decision-making processes and system management within corporate structures. Notably, AI’s integration with tools like Google Workspace and SharePoint is an illustration of AI’s expanding role as a cooperative tool that [...] Frank's World of Data Science & AI\\n\\n#### What is Happening with Ukraine’s Robot Attack Dogs\\n\\n#### Why You Keep Logging In: Zero Trust Security Explained Simply\\n\\n#### Machine Learning Project For Beginners with XGBoost + NVIDIA GPU 🤖🧠\\n\\n#### A Peek Inside the data centers powering the US economy\\n\\n#### “SIM Farms” Found in U.S.: What That Means for You!\\n\\n# Have you heard these exciting AI news? – October 10, 2025 AI Updates Weekly [...] A central thread in this week’s tapestry of updates is the rapid adaptation and integration of AI across different sectors, notably in how jobs are outsourced to AI with increasing frequency and efficiency. This phenomenon isn’t just limited to routine administrative tasks. Sophisticated roles, once thought the exclusive domain of human intellect, are now being performed by AI. This raises a pivotal question: As AI becomes more intertwined with what were traditionally human professions, how do\", \"score\": 0.8652358}, {\"title\": \"AI News and Releases: First Week of October 2025 - DEV Community\", \"url\": \"https://dev.to/aniruddhaadak/ai-news-and-releases-first-week-of-october-2025-5h97\", \"content\": \"The first week of October 2025 has set a remarkable pace for AI innovation. With major releases from industry leaders and breakthrough capabilities in multimodal understanding, autonomous agents, and specialized applications, we're witnessing the rapid materialization of AI's transformative potential. [...] A community for makers, hobbyists, and professionals to discuss Arduino, Raspberry Pi, 3D printing, and much more.\\n\\nDEV Community\\n\\n## DEV Community\\n\\nANIRUDDHA  ADAK\\nSubscriber\\n\\nPosted on Oct 10\\n\\n \\n\\n \\n\\n \\n\\n \\n\\n \\n\\n# AI News and Releases: First Week of October 2025\\n\\n# AI News and Releases: First Week of October 2025 [...] The first week of October 2025 has been nothing short of extraordinary in the AI landscape. From groundbreaking model releases to innovative product launches, the tech giants have delivered some of the most anticipated updates of the year. Let's dive into the major developments that are reshaping the future of artificial intelligence.\\n\\n## 🎬 OpenAI Sora 2: The Next Evolution in Video Generation\\n\\nOpenAI Sora 2 Launch  \\nOpenAI's Sora 2 brings unprecedented realism to AI-generated video\", \"score\": 0.84246206}]\n"
     ]
    }
   ],
   "source": [
    "messages=graph.invoke({\"messages\":HumanMessage(content=\"Provide me the top 10 recent AI news for october 10 2025\")})\n",
    "for m in messages['messages']:\n",
    "    m.pretty_print()"
   ]
  },
  {
   "cell_type": "code",
   "execution_count": 19,
   "id": "a261320a",
   "metadata": {},
   "outputs": [
    {
     "name": "stdout",
     "output_type": "stream",
     "text": [
      "================================\u001b[1m Human Message \u001b[0m=================================\n",
      "\n",
      "What is machine learning\n",
      "==================================\u001b[1m Ai Message \u001b[0m==================================\n",
      "Tool Calls:\n",
      "  wikipedia (r41xvd2fk)\n",
      " Call ID: r41xvd2fk\n",
      "  Args:\n",
      "    query: Machine learning\n",
      "=================================\u001b[1m Tool Message \u001b[0m=================================\n",
      "Name: wikipedia\n",
      "\n",
      "Page: Machine learning\n",
      "Summary: Machine learning (ML) is a field of study in artificial intelligence concerned with the development and study of statistical algorithms that can learn from data and generalise to unseen data, and thus perform tasks without explicit instructions. Within a subdiscipline in machine learning, advances in the field of deep learning have allowed neural networks, a class of statistical algorithms, to surpass many previous machine learning approaches in performance.\n",
      "ML fi\n"
     ]
    }
   ],
   "source": [
    "messages=graph.invoke({\"messages\":HumanMessage(content=\"What is machine learning\")})\n",
    "for m in messages['messages']:\n",
    "    m.pretty_print()"
   ]
  }
 ],
 "metadata": {
  "kernelspec": {
   "display_name": "data_science",
   "language": "python",
   "name": "python3"
  },
  "language_info": {
   "codemirror_mode": {
    "name": "ipython",
    "version": 3
   },
   "file_extension": ".py",
   "mimetype": "text/x-python",
   "name": "python",
   "nbconvert_exporter": "python",
   "pygments_lexer": "ipython3",
   "version": "3.10.0"
  }
 },
 "nbformat": 4,
 "nbformat_minor": 5
}
