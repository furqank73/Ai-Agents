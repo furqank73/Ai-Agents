{
 "cells": [
  {
   "cell_type": "markdown",
   "id": "37b249be",
   "metadata": {},
   "source": [
    "### Simple Meaning of \"Chain\"\n",
    "A **chain** means **connecting multiple steps together so they run one after another** to complete a task.\n",
    "\n",
    "In LangGraph or LangChain, a **chain is like a workflow**. Each step can be:\n",
    "✔️ A function\n",
    "✔️ A tool\n",
    "✔️ An LLM call\n",
    "✔️ Or some logic\n",
    "\n",
    "All steps are **connected in order** like links in a chain.\n",
    "\n",
    "---\n",
    "\n",
    "### Example in LangGraph\n",
    "\n",
    "In your notebook, the chain is:\n",
    "\n",
    "1. Start a conversation (`start_chat`)\n",
    "2. Send message to LLM (`chatbot`)\n",
    "3. If needed, call tools\n",
    "4. End\n",
    "\n",
    "All these steps are **connected**. That connection is called a **chain**.\n",
    "\n",
    "---\n",
    "\n",
    "### One-Line Definition\n",
    "\n",
    "> **A chain is a sequence of connected operations that run step by step to complete a task.**\n"
   ]
  },
  {
   "cell_type": "code",
   "execution_count": 166,
   "id": "65dec667",
   "metadata": {},
   "outputs": [],
   "source": [
    "from dotenv import load_dotenv\n",
    "load_dotenv()\n",
    "\n",
    "import os\n",
    "os.environ[\"GROQ_API_KEY\"]=os.getenv(\"GROQ_API_KEY\")\n"
   ]
  },
  {
   "cell_type": "markdown",
   "id": "6602639b",
   "metadata": {},
   "source": [
    "## How to use chat messages as our graph state\n",
    "##### Messages\n",
    "\n",
    "We can use messages which can be used to capture different roles within a conversation.\n",
    "LangChain has various message types including HumanMessage, AIMessage, SystemMessage and ToolMessage.\n",
    "These represent a message from the user, from chat model, for the chat model to instruct behavior, and from a tool call.\n",
    "\n",
    "### Why do we use `AIMessage` and `HumanMessage`?\n",
    "\n",
    "In LangChain and LangGraph, when we build AI applications like chatbots or AI agents, we need to **store and pass conversations** between the user and the AI.\n",
    "\n",
    "### Why not just use plain text?\n",
    "\n",
    "Because later, LangGraph **needs structured data** to build workflows.\n",
    "Every message have these important components must include:\n",
    "\n",
    "* **role** → AI or Human?\n",
    "* **content** → actual text\n",
    "* **name** → optional sender name\n",
    "* **metadata** → future useful info\n",
    "\n",
    "This structure helps AI reason better and tools to understand who said what.\n",
    "\n",
    "\n",
    "| Why needed?                 | Because LangGraph uses messages inside **graph state** to track conversations |\n",
    "\n",
    "---\n"
   ]
  },
  {
   "cell_type": "markdown",
   "id": "3e68882b",
   "metadata": {},
   "source": [
    "# Example"
   ]
  },
  {
   "cell_type": "code",
   "execution_count": 167,
   "id": "256b52dd",
   "metadata": {},
   "outputs": [
    {
     "name": "stdout",
     "output_type": "stream",
     "text": [
      "==================================\u001b[1m Ai Message \u001b[0m==================================\n",
      "Name: LLMModel\n",
      "\n",
      "Please tell me how can I help\n",
      "================================\u001b[1m Human Message \u001b[0m=================================\n",
      "Name: Furqan\n",
      "\n",
      "I want to learn coding\n",
      "==================================\u001b[1m Ai Message \u001b[0m==================================\n",
      "Name: LLMModel\n",
      "\n",
      "Which programming language you want to learn\n",
      "================================\u001b[1m Human Message \u001b[0m=================================\n",
      "Name: Furqan\n",
      "\n",
      "I want to learn python programming language\n"
     ]
    }
   ],
   "source": [
    "from langchain_core.messages import AIMessage,HumanMessage\n",
    "from pprint import pprint\n",
    "\n",
    "messages=[AIMessage(content=f\"Please tell me how can I help\",name=\"LLMModel\")]\n",
    "messages.append(HumanMessage(content=f\"I want to learn coding\",name=\"Furqan\"))\n",
    "messages.append(AIMessage(content=f\"Which programming language you want to learn\",name=\"LLMModel\"))\n",
    "messages.append(HumanMessage(content=f\"I want to learn python programming language\",name=\"Furqan\"))\n",
    "\n",
    "for message in messages:\n",
    "    message.pretty_print()\n",
    "\n"
   ]
  },
  {
   "cell_type": "code",
   "execution_count": 168,
   "id": "52ed745f",
   "metadata": {},
   "outputs": [],
   "source": [
    "from langchain_groq import ChatGroq\n",
    "llm=ChatGroq(model=\"llama-3.1-8b-instant\")\n",
    "result=llm.invoke(messages)"
   ]
  },
  {
   "cell_type": "code",
   "execution_count": 169,
   "id": "d07a4f90",
   "metadata": {},
   "outputs": [
    {
     "data": {
      "text/plain": [
       "{'token_usage': {'completion_tokens': 574,\n",
       "  'prompt_tokens': 76,\n",
       "  'total_tokens': 650,\n",
       "  'completion_time': 0.69340351,\n",
       "  'prompt_time': 0.004057494,\n",
       "  'queue_time': 0.048622856,\n",
       "  'total_time': 0.697461004},\n",
       " 'model_name': 'llama-3.1-8b-instant',\n",
       " 'system_fingerprint': 'fp_ab04adca7d',\n",
       " 'service_tier': 'on_demand',\n",
       " 'finish_reason': 'stop',\n",
       " 'logprobs': None}"
      ]
     },
     "execution_count": 169,
     "metadata": {},
     "output_type": "execute_result"
    }
   ],
   "source": [
    "result.response_metadata"
   ]
  },
  {
   "cell_type": "markdown",
   "id": "148989fc",
   "metadata": {},
   "source": [
    "| Key                 | Meaning                               |\n",
    "| ------------------- | ------------------------------------- |\n",
    "| `prompt_tokens`     | Tokens from our conversation history  |\n",
    "| `completion_tokens` | Tokens generated by the model         |\n",
    "| `total_tokens`      | Total tokens used (this affects cost) |\n",
    "| `completion_time`   | Time taken to respond                 |\n",
    "| `model_name`        | Model used                            |\n",
    "| `finish_reason`     | Why the response stopped              |\n",
    "\n",
    "\n",
    "from the Example above AIMessage and HumanMessage details/metadata through result.response_metadata"
   ]
  },
  {
   "cell_type": "markdown",
   "id": "25c87686",
   "metadata": {},
   "source": [
    "### Tools\n",
    "Tools can be integrated with the LLM models to interact with external systems. External systems can be API's, third party tools.\n",
    "\n",
    "Whenever a query is asked the model can choose to call the tool and this query is based on the \n",
    "natural language input and this will return an output that matches the tool's schema"
   ]
  },
  {
   "cell_type": "markdown",
   "id": "473c35e4",
   "metadata": {},
   "source": [
    "This is a simple function that adds two numbers.\n",
    "It takes two integers a and b and returns their sum."
   ]
  },
  {
   "cell_type": "code",
   "execution_count": 170,
   "id": "8576e0f7",
   "metadata": {},
   "outputs": [],
   "source": [
    "def add(a:int,b:int)-> int:\n",
    "    \"\"\" Add a and b\n",
    "    Args:\n",
    "        a (int): first int\n",
    "        b (int): second int\n",
    "\n",
    "    Returns:\n",
    "        int\n",
    "    \"\"\"\n",
    "    return a+b"
   ]
  },
  {
   "cell_type": "code",
   "execution_count": 171,
   "id": "d656794a",
   "metadata": {},
   "outputs": [
    {
     "data": {
      "text/plain": [
       "ChatGroq(client=<groq.resources.chat.completions.Completions object at 0x000001B526EDAC50>, async_client=<groq.resources.chat.completions.AsyncCompletions object at 0x000001B525AB55D0>, model_name='llama-3.1-8b-instant', model_kwargs={}, groq_api_key=SecretStr('**********'))"
      ]
     },
     "execution_count": 171,
     "metadata": {},
     "output_type": "execute_result"
    }
   ],
   "source": [
    "llm"
   ]
  },
  {
   "cell_type": "markdown",
   "id": "8a5e9e9e",
   "metadata": {},
   "source": [
    "This connects the function add to the language model so it can use the tool during conversation.\n",
    "\n",
    "Before this: AI can only chat.\n",
    "\n",
    "After this: AI can calculate using our function.\n",
    "\n",
    "✅ Now the AI has a new skill → addition 💪"
   ]
  },
  {
   "cell_type": "code",
   "execution_count": 172,
   "id": "8937808b",
   "metadata": {},
   "outputs": [],
   "source": [
    "### Binding tool with llm\n",
    "\n",
    "llm_with_tools=llm.bind_tools([add])\n",
    "\n",
    "tool_call=llm_with_tools.invoke([HumanMessage(content=f\"What is 2 plus 2\",name=\"Furqan\")])"
   ]
  },
  {
   "cell_type": "markdown",
   "id": "ff1af3fe",
   "metadata": {},
   "source": [
    "Now we ask the AI:\n",
    "\n",
    "\"What is 2 plus 2\"\n",
    "\n",
    "Since this is a math question, the model will not just answer randomly—it will detect that it needs the add tool and prepare a tool call request."
   ]
  },
  {
   "cell_type": "code",
   "execution_count": 173,
   "id": "60ca13ab",
   "metadata": {},
   "outputs": [
    {
     "data": {
      "text/plain": [
       "AIMessage(content='', additional_kwargs={'tool_calls': [{'id': '8stg43t2v', 'function': {'arguments': '{\"a\":2,\"b\":2}', 'name': 'add'}, 'type': 'function'}]}, response_metadata={'token_usage': {'completion_tokens': 18, 'prompt_tokens': 258, 'total_tokens': 276, 'completion_time': 0.023521097, 'prompt_time': 0.014063571, 'queue_time': 0.052274899, 'total_time': 0.037584668}, 'model_name': 'llama-3.1-8b-instant', 'system_fingerprint': 'fp_33e8adf159', 'service_tier': 'on_demand', 'finish_reason': 'tool_calls', 'logprobs': None}, id='run--83423ef4-4648-4bda-b86c-dec22a5be019-0', tool_calls=[{'name': 'add', 'args': {'a': 2, 'b': 2}, 'id': '8stg43t2v', 'type': 'tool_call'}], usage_metadata={'input_tokens': 258, 'output_tokens': 18, 'total_tokens': 276})"
      ]
     },
     "execution_count": 173,
     "metadata": {},
     "output_type": "execute_result"
    }
   ],
   "source": [
    "tool_call"
   ]
  },
  {
   "cell_type": "code",
   "execution_count": 174,
   "id": "b16a14df",
   "metadata": {},
   "outputs": [
    {
     "data": {
      "text/plain": [
       "[{'name': 'add',\n",
       "  'args': {'a': 2, 'b': 2},\n",
       "  'id': '8stg43t2v',\n",
       "  'type': 'tool_call'}]"
      ]
     },
     "execution_count": 174,
     "metadata": {},
     "output_type": "execute_result"
    }
   ],
   "source": [
    "tool_call.tool_calls"
   ]
  },
  {
   "cell_type": "markdown",
   "id": "55052db5",
   "metadata": {},
   "source": [
    "# **Using messages as state**\n",
    "## Goal of this section:\n",
    "\n",
    "To teach:\n",
    "- ✔️ How to use messages as state in LangGraph\n",
    "- ✔️ How to append conversation history using reducers\n",
    "- ✔️ How to add tools so the AI can think + act\n",
    "- ✔️ How to build a chat workflow graph"
   ]
  },
  {
   "cell_type": "markdown",
   "id": "ec2cf838",
   "metadata": {},
   "source": [
    "# Step 1 :Here we define a State object that will hold chat messages.\n",
    "State is a dictionary with a key messages which stores our conversation.\n",
    "\n",
    "✅ Problem: By default, state updates replace old values. But we want to add messages over time (memory)."
   ]
  },
  {
   "cell_type": "code",
   "execution_count": 175,
   "id": "3fb23d38",
   "metadata": {},
   "outputs": [],
   "source": [
    "from typing_extensions import TypedDict\n",
    "from langchain_core.messages import AnyMessage\n",
    "\n",
    "class State(TypedDict):\n",
    "    message:list[AnyMessage]"
   ]
  },
  {
   "cell_type": "markdown",
   "id": "0f0e4651",
   "metadata": {},
   "source": [
    "✅ Problem: By default, state updates replace old values. But we want to add messages over time (memory).\n",
    "\n",
    "# Step 2:Fix with Reducers 🚀\n",
    "\n",
    "To solve this, we use a reducer — it helps control how state updates happen."
   ]
  },
  {
   "cell_type": "markdown",
   "id": "0ae5ebd8",
   "metadata": {},
   "source": [
    "#### Reducers\n",
    "Now, we have a minor problem!\n",
    "\n",
    "As we discussed, each node will return a new value for our state key messages.\n",
    "\n",
    "But, this new value will override the prior messages value.\n",
    "\n",
    "As our graph runs, we want to append messages to our messages state key.\n",
    "\n",
    "We can use reducer functions to address this.\n",
    "\n",
    "Reducers allow us to specify how state updates are performed.\n",
    "\n",
    "If no reducer function is specified, then it is assumed that updates to the key should override it as we saw before.\n",
    "\n",
    "But, to append messages, we can use the pre-built add_messages reducer.\n",
    "\n",
    "This ensures that any messages are appended to the existing list of messages.\n",
    "\n",
    "We simply need to annotate our messages key with the add_messages reducer function as metadata."
   ]
  },
  {
   "cell_type": "markdown",
   "id": "846495a4",
   "metadata": {},
   "source": [
    "Now:add_messages function from langgraph as reducer\n",
    "\n",
    "Each time a node returns new messages\n",
    "\n",
    "Instead of replacing old messages,\n",
    "\n",
    "LangGraph appends them to history ✅\n",
    "\n",
    "This builds a chat memory automatically."
   ]
  },
  {
   "cell_type": "code",
   "execution_count": 176,
   "id": "5ac4332f",
   "metadata": {},
   "outputs": [],
   "source": [
    "from langgraph.graph.message import add_messages\n",
    "from typing import Annotated\n",
    "class State(TypedDict):\n",
    "    messages:Annotated[list[AnyMessage],add_messages]"
   ]
  },
  {
   "cell_type": "markdown",
   "id": "220f8604",
   "metadata": {},
   "source": [
    "Here, `add_messages` means:\n",
    "- ✅ Keep previous messages\n",
    "- ✅ Add new messages\n",
    "- ✅ Maintain conversation history\n",
    "\n",
    "---\n",
    "\n",
    "### 🔑 Key takeaway\n",
    "\n",
    "| Term               | Meaning                                                    |\n",
    "| ------------------ | ---------------------------------------------------------- |\n",
    "| **Reducer**        | A function used to combine previous state with new updates |\n",
    "| **`add_messages`** | A **specific reducer** that appends chat messages          |\n",
    "\n",
    "✅ So `add_messages` **is used as a reducer**\n",
    "\n",
    "---\n"
   ]
  },
  {
   "cell_type": "markdown",
   "id": "b3091ce1",
   "metadata": {},
   "source": [
    "# Step 3: See how add_messages works"
   ]
  },
  {
   "cell_type": "code",
   "execution_count": 177,
   "id": "3f250f9e",
   "metadata": {},
   "outputs": [
    {
     "data": {
      "text/plain": [
       "[AIMessage(content='Please tell me how can I help', additional_kwargs={}, response_metadata={}, name='LLMModel'),\n",
       " HumanMessage(content='I want to learn coding', additional_kwargs={}, response_metadata={}, name='Krish')]"
      ]
     },
     "execution_count": 177,
     "metadata": {},
     "output_type": "execute_result"
    }
   ],
   "source": [
    "initial_messages=[AIMessage(content=f\"Please tell me how can I help\",name=\"LLMModel\")]\n",
    "initial_messages.append(HumanMessage(content=f\"I want to learn coding\",name=\"Krish\"))\n",
    "initial_messages"
   ]
  },
  {
   "cell_type": "code",
   "execution_count": 178,
   "id": "6c6bedea",
   "metadata": {},
   "outputs": [
    {
     "data": {
      "text/plain": [
       "AIMessage(content='Which programming language you want to learn', additional_kwargs={}, response_metadata={}, name='LLMModel')"
      ]
     },
     "execution_count": 178,
     "metadata": {},
     "output_type": "execute_result"
    }
   ],
   "source": [
    "ai_message=AIMessage(content=f\"Which programming language you want to learn\",name=\"LLMModel\")\n",
    "ai_message"
   ]
  },
  {
   "cell_type": "code",
   "execution_count": 179,
   "id": "52804f7b",
   "metadata": {},
   "outputs": [
    {
     "data": {
      "text/plain": [
       "[AIMessage(content='Please tell me how can I help', additional_kwargs={}, response_metadata={}, name='LLMModel', id='22148b08-f469-457b-8eff-11b99a59deb1'),\n",
       " HumanMessage(content='I want to learn coding', additional_kwargs={}, response_metadata={}, name='Krish', id='5a5aa11a-1d72-4b8b-b397-4c2effc19663'),\n",
       " AIMessage(content='Which programming language you want to learn', additional_kwargs={}, response_metadata={}, name='LLMModel', id='6201145b-c990-4111-8222-168491c86afd')]"
      ]
     },
     "execution_count": 179,
     "metadata": {},
     "output_type": "execute_result"
    }
   ],
   "source": [
    "### Reducers add_messages is to append instead of override\n",
    "add_messages(initial_messages,ai_message)"
   ]
  },
  {
   "cell_type": "markdown",
   "id": "4c4878dd",
   "metadata": {},
   "source": [
    "#### This shows that add_messages adds a new message to the conversation history – not replacing it."
   ]
  },
  {
   "cell_type": "markdown",
   "id": "483e206d",
   "metadata": {},
   "source": [
    "# Step 4: Create a chatbot node"
   ]
  },
  {
   "cell_type": "markdown",
   "id": "056ccf8c",
   "metadata": {},
   "source": [
    "#### This is a graph node.\n",
    "It\n",
    "- Takes the current state (messages)\n",
    "- Sends them to the LLM(llm_with_tools.invoke)\n",
    "- Returns the AI response as a new message (which will get appended)"
   ]
  },
  {
   "cell_type": "markdown",
   "id": "3c85db11",
   "metadata": {},
   "source": [
    "### llm_with_tools=llm.bind_tools([add]) defined in cell 9 binding to the tool add"
   ]
  },
  {
   "cell_type": "code",
   "execution_count": 180,
   "id": "7981f09a",
   "metadata": {},
   "outputs": [],
   "source": [
    "## chatbot node functionality\n",
    "def llm_tool(state:State):\n",
    "    return {\"messages\":[llm_with_tools.invoke(state[\"messages\"])]}"
   ]
  },
  {
   "cell_type": "markdown",
   "id": "aa62ce6d",
   "metadata": {},
   "source": [
    "# Step 5: Build Graph"
   ]
  },
  {
   "cell_type": "markdown",
   "id": "3a7d1921",
   "metadata": {},
   "source": [
    "This creates a simple 1-step chatbot graph:"
   ]
  },
  {
   "cell_type": "code",
   "execution_count": 181,
   "id": "aaf6ed0c",
   "metadata": {},
   "outputs": [
    {
     "data": {
      "image/png": "[encoded data removed]",
      "text/plain": [
       "<IPython.core.display.Image object>"
      ]
     },
     "metadata": {},
     "output_type": "display_data"
    }
   ],
   "source": [
    "from IPython.display import Image, display\n",
    "from langgraph.graph import StateGraph, START, END\n",
    "builder=StateGraph(State)\n",
    "\n",
    "builder.add_node(\"llm_tool\",llm_tool)\n",
    "\n",
    "builder.add_edge(START,\"llm_tool\")\n",
    "builder.add_edge(\"llm_tool\",END)\n",
    "\n",
    "graph=builder.compile()\n",
    "\n",
    "display(Image(graph.get_graph().draw_mermaid_png()))"
   ]
  },
  {
   "cell_type": "code",
   "execution_count": 182,
   "id": "09af888e",
   "metadata": {},
   "outputs": [
    {
     "name": "stdout",
     "output_type": "stream",
     "text": [
      "================================\u001b[1m Human Message \u001b[0m=================================\n",
      "\n",
      "What is 2 plus 2\n",
      "==================================\u001b[1m Ai Message \u001b[0m==================================\n",
      "Tool Calls:\n",
      "  add (ab71xatev)\n",
      " Call ID: ab71xatev\n",
      "  Args:\n",
      "    a: 2\n",
      "    b: 2\n"
     ]
    }
   ],
   "source": [
    "## invocation\n",
    "\n",
    "messages=graph.invoke({\"messages\":\"What is 2 plus 2\"})\n",
    "\n",
    "for message in messages[\"messages\"]:\n",
    "    message.pretty_print()"
   ]
  },
  {
   "cell_type": "markdown",
   "id": "c4c4101f",
   "metadata": {},
   "source": [
    "| Part                               | Meaning                     |\n",
    "| ---------------------------------- | --------------------------- |\n",
    "| `graph.invoke(...)`                | Runs the LangGraph workflow created in step 5 |\n",
    "| `{\"messages\": \"What is 2 plus 2\"}` | Initial user input to graph |\n",
    "| `messages[\"messages\"]`             | Final conversation history  |\n",
    "| `pretty_print()`                   | Nicely prints chat          |\n"
   ]
  },
  {
   "cell_type": "markdown",
   "id": "fcd873ad",
   "metadata": {},
   "source": [
    "# Step 6: Add tools to the graph\n",
    "this part of the code connects LLM + Tools together in a LangGraph workflow. It decides when to call a tool and when to stop.\n",
    "Now we let the AI call tools (like the add() function earlier)"
   ]
  },
  {
   "cell_type": "code",
   "execution_count": 183,
   "id": "413bb35a",
   "metadata": {},
   "outputs": [],
   "source": [
    "tools=[add]"
   ]
  },
  {
   "cell_type": "code",
   "execution_count": 184,
   "id": "2aa252d1",
   "metadata": {},
   "outputs": [
    {
     "data": {
      "text/plain": [
       "[<function __main__.add(a: int, b: int) -> int>]"
      ]
     },
     "execution_count": 184,
     "metadata": {},
     "output_type": "execute_result"
    }
   ],
   "source": [
    "tools"
   ]
  },
  {
   "cell_type": "code",
   "execution_count": 185,
   "id": "27283683",
   "metadata": {},
   "outputs": [
    {
     "data": {
      "image/png": "[encoded data removed]",
      "text/plain": [
       "<IPython.core.display.Image object>"
      ]
     },
     "metadata": {},
     "output_type": "display_data"
    }
   ],
   "source": [
    "\n",
    "from langgraph.prebuilt import ToolNode, tools_condition\n",
    "# tools_condition checks:If AI requests a tool → send to tools node If no tool needed → end normally\n",
    "\n",
    "builder=StateGraph(State) #Starts building a graph using our State (which holds memory of messages).\n",
    "#State includes messages with a reducer (add_messages) so it stores the whole conversation.\n",
    "\n",
    "## Add nodes\n",
    "# First step in graph is always -> go to llm_tool\n",
    "builder.add_node(\"llm_tool\",llm_tool) # \"llm_tool\": This is the node where the LLM thinks and may request a tool.\n",
    "builder.add_node(\"tools\",ToolNode(tools)) # \"tools\": This node will execute any tool calls that the LLM requests. like tools=[add]\n",
    "\n",
    "## Add Edge\n",
    "builder.add_edge(START,\"llm_tool\")\n",
    "builder.add_conditional_edges(\"llm_tool\",\n",
    "    # If the latest message (result) from assistant is a tool call -> tools_condition routes to tools\n",
    "    # If the latest message (result) from assistant is a not a tool call -> tools_condition routes to END\n",
    "    tools_condition)\n",
    "builder.add_edge(\"tools\",END)\n",
    "\n",
    "\n",
    "graph = builder.compile()  # <-- rename to graph\n",
    "display(Image(graph.get_graph().draw_mermaid_png()))\n",
    "\n"
   ]
  },
  {
   "cell_type": "markdown",
   "id": "b29f6ac3",
   "metadata": {},
   "source": [
    "| Part              | Purpose                                           |\n",
    "| ----------------- | ------------------------------------------------- |\n",
    "| ToolNode          | Runs tools like functions (`add`, `search`, etc.) |\n",
    "| tools_condition   | Routes flow based on tool need                    |\n",
    "| llm_tool          | LLM thinking node                                 |\n",
    "| edges             | Define graph flow                                 |\n",
    "| compile + display | Build and show graph                              |\n"
   ]
  },
  {
   "cell_type": "code",
   "execution_count": 186,
   "id": "dc4ee688",
   "metadata": {},
   "outputs": [
    {
     "name": "stdout",
     "output_type": "stream",
     "text": [
      "================================\u001b[1m Human Message \u001b[0m=================================\n",
      "\n",
      "What is 2 plus 2\n",
      "==================================\u001b[1m Ai Message \u001b[0m==================================\n",
      "Tool Calls:\n",
      "  add (qv2hz180m)\n",
      " Call ID: qv2hz180m\n",
      "  Args:\n",
      "    a: 2\n",
      "    b: 2\n",
      "=================================\u001b[1m Tool Message \u001b[0m=================================\n",
      "Name: add\n",
      "\n",
      "4\n"
     ]
    }
   ],
   "source": [
    "## invocation\n",
    "\n",
    "messages=graph.invoke({\"messages\":\"What is 2 plus 2\"})\n",
    "\n",
    "for message in messages[\"messages\"]:\n",
    "    message.pretty_print()"
   ]
  },
  {
   "cell_type": "code",
   "execution_count": 187,
   "id": "f27432d1",
   "metadata": {},
   "outputs": [
    {
     "name": "stdout",
     "output_type": "stream",
     "text": [
      "================================\u001b[1m Human Message \u001b[0m=================================\n",
      "\n",
      "what is ai\n",
      "==================================\u001b[1m Ai Message \u001b[0m==================================\n",
      "\n",
      "Artificial intelligence (AI) is a broad field of computer science that involves the creation of intelligent machines that can perform tasks that would typically require human intelligence. This can include tasks such as:\n",
      "\n",
      "- Learning: AI systems can learn from data and improve their performance over time.\n",
      "- Problem-solving: AI systems can solve complex problems and make decisions based on data and algorithms.\n",
      "- Perception: AI systems can interpret and understand data from sensors and other sources.\n",
      "- Reasoning: AI systems can draw conclusions and make decisions based on data and logic.\n",
      "- Language understanding: AI systems can understand and generate human language.\n",
      "\n",
      "AI is a rapidly evolving field that has many applications, including:\n",
      "\n",
      "- Virtual assistants, such as Siri and Alexa\n",
      "- Image and speech recognition\n",
      "- Natural language processing\n",
      "- Predictive analytics and decision-making\n",
      "- Robotics and autonomous vehicles\n",
      "- Healthcare and medicine\n",
      "- Education and learning\n",
      "\n",
      "There are several types of AI, including:\n",
      "\n",
      "- Narrow or weak AI: This type of AI is designed to perform a specific task, such as playing chess or recognizing faces.\n",
      "- General or strong AI: This type of AI is designed to perform any intellectual task that a human can.\n",
      "- Superintelligence: This type of AI is significantly more intelligent than the best human minds.\n",
      "\n",
      "AI can be classified into three main categories:\n",
      "\n",
      "- Machine learning (ML): This type of AI learns from data and improves its performance over time.\n",
      "- Deep learning (DL): This type of AI uses neural networks to analyze data and make decisions.\n",
      "- Expert systems: This type of AI uses pre-programmed rules to make decisions.\n",
      "\n",
      "Some of the benefits of AI include:\n",
      "\n",
      "- Improved efficiency and productivity\n",
      "- Enhanced decision-making and problem-solving\n",
      "- Increased accuracy and reliability\n",
      "- Better customer service and experience\n",
      "- New business opportunities and revenue streams\n",
      "\n",
      "However, AI also raises several concerns, including:\n",
      "\n",
      "- Job displacement and unemployment\n",
      "- Bias and fairness issues\n",
      "- Data security and privacy\n",
      "- Ethics and accountability\n",
      "\n",
      "To learn more about AI, you can call the function <function=brave_search>{\"query\": \"artificial intelligence\"}</function>\n"
     ]
    }
   ],
   "source": [
    "messages=graph.invoke({\"messages\":\"what is ai\"})\n",
    "\n",
    "for message in messages[\"messages\"]:\n",
    "    message.pretty_print()"
   ]
  },
  {
   "cell_type": "markdown",
   "id": "5e8c9e65",
   "metadata": {},
   "source": [
    "### ✅ Simple Real-Life Example\n",
    "\n",
    "User: **\"What is 2 + 2?\"**\n",
    "\n",
    "LLM (`llm_tool` node) thinks:\n",
    "\n",
    "* \"I need to use `add` tool to solve this.\"\n",
    "* Calls: `add(2, 2)`\n",
    "\n",
    "Graph flow:\n",
    "\n",
    "```\n",
    "START → llm_tool → tools → END ✔\n",
    "```\n",
    "\n",
    "User: **\"Explain Machine Learning.\"**\n",
    "\n",
    "LLM doesn’t need tools, so:\n",
    "\n",
    "```\n",
    "START → llm_tool → END ✔\n",
    "```\n",
    "\n",
    "---\n",
    "\n"
   ]
  }
 ],
 "metadata": {
  "kernelspec": {
   "display_name": "data_science",
   "language": "python",
   "name": "python3"
  },
  "language_info": {
   "codemirror_mode": {
    "name": "ipython",
    "version": 3
   },
   "file_extension": ".py",
   "mimetype": "text/x-python",
   "name": "python",
   "nbconvert_exporter": "python",
   "pygments_lexer": "ipython3",
   "version": "3.10.0"
  }
 },
 "nbformat": 4,
 "nbformat_minor": 5
}
