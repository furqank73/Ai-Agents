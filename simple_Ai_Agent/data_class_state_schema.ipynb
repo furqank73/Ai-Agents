{
 "cells": [
  {
   "cell_type": "markdown",
   "id": "eba87b53",
   "metadata": {},
   "source": [
    "| Feature                   | State             | State Schema           | TypedDict            | dataclass          |\n",
    "| ------------------------- | ----------------- | ---------------------- | -------------------- | ------------------ |\n",
    "| Meaning                   | Data being passed | Structure of that data | Simple schema        | Advanced schema    |\n",
    "| Type                      | Actual data       | Blueprint              | Dict-style schema    | Class-style schema |\n",
    "| Used for                  | AI memory         | Organizing data        | Quick projects       | Real applications  |\n",
    "| Supports defaults         | ❌ No              | ❌ No                   | ❌ No                 | ✅ Yes              |\n",
    "| Recommended for LangGraph | ✅ Yes             | ✅ Yes                  | ⚠️ OK for small apps | ✅ Best choice      |\n"
   ]
  },
  {
   "cell_type": "markdown",
   "id": "d5956d87",
   "metadata": {},
   "source": [
    "# Example 1: Using TypedDict for State Schema\n",
    "\n",
    "This is the simpler way where we define the state as a dictionary structure."
   ]
  },
  {
   "cell_type": "code",
   "execution_count": 3,
   "id": "e59d2c3d",
   "metadata": {},
   "outputs": [
    {
     "name": "stdout",
     "output_type": "stream",
     "text": [
      "{'name': 'Furqan', 'greeting': 'Hello Furqan!'}\n"
     ]
    }
   ],
   "source": [
    "from typing_extensions import TypedDict\n",
    "from langgraph.graph import StateGraph, END\n",
    "\n",
    "# ✅ State Schema using TypedDict\n",
    "class State(TypedDict):\n",
    "    name: str\n",
    "    greeting: str\n",
    "\n",
    "# ✅ Node 1: Say hello\n",
    "def generate_greeting(state: State):\n",
    "    return {\"greeting\": f\"Hello {state['name']}!\"}\n",
    "\n",
    "# ✅ Build graph\n",
    "graph = StateGraph(State)\n",
    "graph.add_node(\"generate_greeting\", generate_greeting)\n",
    "graph.set_entry_point(\"generate_greeting\")\n",
    "graph.add_edge(\"generate_greeting\", END)\n",
    "app = graph.compile()\n",
    "\n",
    "# ✅ Run it\n",
    "result = app.invoke({\"name\": \"Furqan\", \"greeting\": \"\"})\n",
    "print(result)\n"
   ]
  },
  {
   "cell_type": "markdown",
   "id": "b4d8313e",
   "metadata": {},
   "source": [
    "# Example 2: Using @dataclass for State Schema\n",
    "\n",
    "This is the professional and recommended way—clean and works great in larger AI agent systems"
   ]
  },
  {
   "cell_type": "code",
   "execution_count": 2,
   "id": "5cff27c2",
   "metadata": {},
   "outputs": [
    {
     "name": "stdout",
     "output_type": "stream",
     "text": [
      "{'name': 'Furqan', 'greeting': 'Hello Furqan!'}\n"
     ]
    }
   ],
   "source": [
    "from dataclasses import dataclass\n",
    "from langgraph.graph import StateGraph, END\n",
    "\n",
    "# ✅ State Schema using dataclass\n",
    "@dataclass\n",
    "class State:\n",
    "    name: str\n",
    "    greeting: str = \"\"  # default value\n",
    "\n",
    "# ✅ Node 1: Say hello\n",
    "def generate_greeting(state: State):\n",
    "    return State(\n",
    "        name=state.name,\n",
    "        greeting=f\"Hello {state.name}!\"\n",
    "    )\n",
    "\n",
    "# ✅ Build graph\n",
    "graph = StateGraph(State)\n",
    "graph.add_node(\"generate_greeting\", generate_greeting)\n",
    "graph.set_entry_point(\"generate_greeting\")\n",
    "graph.add_edge(\"generate_greeting\", END)\n",
    "app = graph.compile()\n",
    "\n",
    "# ✅ Run it\n",
    "result = app.invoke(State(name=\"Furqan\"))\n",
    "print(result)\n"
   ]
  },
  {
   "cell_type": "markdown",
   "id": "54227bda",
   "metadata": {},
   "source": [
    "| Project Type               | Use          |\n",
    "| -------------------------- | ------------ |\n",
    "| Learning / Small Demo      | ✅ TypedDict  |\n",
    "| Professional AI Agent      | ✅✅ dataclass |\n",
    "| Large workflows            | ✅✅ dataclass |\n",
    "| Needs default field values | ✅✅ dataclass |\n"
   ]
  }
 ],
 "metadata": {
  "kernelspec": {
   "display_name": "data_science",
   "language": "python",
   "name": "python3"
  },
  "language_info": {
   "codemirror_mode": {
    "name": "ipython",
    "version": 3
   },
   "file_extension": ".py",
   "mimetype": "text/x-python",
   "name": "python",
   "nbconvert_exporter": "python",
   "pygments_lexer": "ipython3",
   "version": "3.10.0"
  }
 },
 "nbformat": 4,
 "nbformat_minor": 5
}
