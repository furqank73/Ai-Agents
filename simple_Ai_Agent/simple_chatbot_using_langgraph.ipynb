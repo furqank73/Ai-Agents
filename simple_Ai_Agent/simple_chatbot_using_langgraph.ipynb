{
 "cells": [
  {
   "cell_type": "code",
   "execution_count": 9,
   "id": "a7968aa7",
   "metadata": {},
   "outputs": [],
   "source": [
    "from typing_extensions import TypedDict\n",
    "\n",
    "from langgraph.graph import StateGraph, START, END\n",
    "\n",
    "## Reducers\n",
    "from typing import Annotated\n",
    "from langgraph.graph.message import add_messages"
   ]
  },
  {
   "cell_type": "code",
   "execution_count": 10,
   "id": "27530dbb",
   "metadata": {},
   "outputs": [],
   "source": [
    "import os\n",
    "from dotenv import load_dotenv\n",
    "load_dotenv()\n",
    "\n",
    "\n",
    "os.environ[\"GROQ_API_KEY\"]=os.getenv(\"GROQ_API_KEY\")\n"
   ]
  },
  {
   "cell_type": "code",
   "execution_count": 11,
   "id": "c8838e78",
   "metadata": {},
   "outputs": [
    {
     "data": {
      "text/plain": [
       "AIMessage(content='How can I assist you today?', additional_kwargs={}, response_metadata={'token_usage': {'completion_tokens': 8, 'prompt_tokens': 36, 'total_tokens': 44, 'completion_time': 0.010694071, 'prompt_time': 0.001773694, 'queue_time': 0.050986766, 'total_time': 0.012467765}, 'model_name': 'llama-3.1-8b-instant', 'system_fingerprint': 'fp_33e8adf159', 'service_tier': 'on_demand', 'finish_reason': 'stop', 'logprobs': None}, id='run--1390cb0f-7d52-4007-b20a-910cecdb0f2a-0', usage_metadata={'input_tokens': 36, 'output_tokens': 8, 'total_tokens': 44})"
      ]
     },
     "execution_count": 11,
     "metadata": {},
     "output_type": "execute_result"
    }
   ],
   "source": [
    "#import Groq LLM\n",
    "from langchain_groq import ChatGroq\n",
    "llm=ChatGroq(model=\"llama-3.1-8b-instant\")\n",
    "llm.invoke(\"Hello\")"
   ]
  },
  {
   "cell_type": "markdown",
   "id": "9cbd53d9",
   "metadata": {},
   "source": [
    "| Part                            | Meaning                                |\n",
    "| ------------------------------- | -------------------------------------- |\n",
    "| `State`                         | Conversation memory structure          |\n",
    "| `messages`                      | Stores chat messages                   |\n",
    "| `Annotated[list, add_messages]` | Keeps adding messages like a real chatMeans \"this is a list, but whenever new messages are added, append them instead of replacing them\" — thanks to add_messages |\n"
   ]
  },
  {
   "cell_type": "code",
   "execution_count": 12,
   "id": "21433302",
   "metadata": {},
   "outputs": [],
   "source": [
    "class State(TypedDict):\n",
    "    messages:Annotated[list,add_messages]"
   ]
  },
  {
   "cell_type": "markdown",
   "id": "707a0165",
   "metadata": {},
   "source": [
    "### We Will start With Creating Nodes"
   ]
  },
  {
   "cell_type": "code",
   "execution_count": 13,
   "id": "b4761b33",
   "metadata": {},
   "outputs": [],
   "source": [
    "def superbot(state:State):\n",
    "    return {\"messages\":[llm.invoke(state['messages'])]}"
   ]
  },
  {
   "cell_type": "code",
   "execution_count": 14,
   "id": "39c98426",
   "metadata": {},
   "outputs": [
    {
     "data": {
      "image/png": "[encoded data removed]",
      "text/plain": [
       "<IPython.core.display.Image object>"
      ]
     },
     "metadata": {},
     "output_type": "display_data"
    }
   ],
   "source": [
    "graph=StateGraph(State)# StateGraph creates a new graph that will follow the structure defined in State (which contains messages).\n",
    "                       # This graph will control how messages move between nodes.\n",
    "\n",
    "## node\n",
    "graph.add_node(\"SuperBot\",superbot) # Define a node named \"SuperBot\" that uses the def superbot(state:State): function to process messages.\n",
    "## Edges\n",
    "\n",
    "graph.add_edge(START,\"SuperBot\") # The graph starts at START \n",
    "graph.add_edge(\"SuperBot\",END)   # Moves to SuperBot Ends at END (START ➝ SuperBot ➝ END)\n",
    "\n",
    "\n",
    "graph_builder=graph.compile()\n",
    "\n",
    "\n",
    "## Display\n",
    "from IPython.display import Image, display\n",
    "display(Image(graph_builder.get_graph().draw_mermaid_png())) # Visualize the graph structure using Mermaid diagram in PNG format."
   ]
  },
  {
   "cell_type": "code",
   "execution_count": 15,
   "id": "f35cc255",
   "metadata": {},
   "outputs": [
    {
     "data": {
      "text/plain": [
       "{'messages': [HumanMessage(content='Hi,My name is furqan And I like cricket', additional_kwargs={}, response_metadata={}, id='997107e7-b255-4b6b-8ecb-80fe51a46484'),\n",
       "  AIMessage(content=\"Hello Furqan! Nice to meet you. Cricket is a fantastic sport, isn't it? There's something about the thrill of the game, the strategy, and the camaraderie that makes it so enjoyable. Are you a fan of any particular team or player? Do you have a favorite format of the game - Test cricket, One-Day Internationals (ODIs), or the Twenty20 format?\", additional_kwargs={}, response_metadata={'token_usage': {'completion_tokens': 84, 'prompt_tokens': 47, 'total_tokens': 131, 'completion_time': 0.112959164, 'prompt_time': 0.002484975, 'queue_time': 0.053335125, 'total_time': 0.115444139}, 'model_name': 'llama-3.1-8b-instant', 'system_fingerprint': 'fp_e32974efee', 'service_tier': 'on_demand', 'finish_reason': 'stop', 'logprobs': None}, id='run--edf4b141-b9b4-4473-b616-6caaa25f1b1d-0', usage_metadata={'input_tokens': 47, 'output_tokens': 84, 'total_tokens': 131})]}"
      ]
     },
     "execution_count": 15,
     "metadata": {},
     "output_type": "execute_result"
    }
   ],
   "source": [
    "## Invocation\n",
    "\n",
    "graph_builder.invoke({'messages':\"Hi,My name is furqan And I like cricket\"})"
   ]
  },
  {
   "cell_type": "markdown",
   "id": "8461533e",
   "metadata": {},
   "source": [
    "#### Streaming The responses"
   ]
  },
  {
   "cell_type": "markdown",
   "id": "a69ec144",
   "metadata": {},
   "source": [
    "# What is `.stream()`?\n",
    "\n",
    "`.stream()` is a method used to run your graph **step by step** and **see each update live as it happens**.\n",
    "It lets you process **events in real time**—useful for understanding how your AI agent graph flows between nodes.\n",
    "\n",
    "---\n",
    "\n",
    "# When to use `.stream()`\n",
    "\n",
    "| Use Case                      | Recommended?              |\n",
    "| ----------------------------- | ------------------------- |\n",
    "| Debug graph execution         | ✅ Yes                     |\n",
    "| Real-time chat with AI agents | ✅ Yes                     |\n",
    "| Understanding message flow    | ✅ Yes                     |\n",
    "| Simple inference once         | ❌ Use `.invoke()` instead |\n",
    "\n",
    "---"
   ]
  },
  {
   "cell_type": "code",
   "execution_count": 16,
   "id": "4ef8a2ac",
   "metadata": {},
   "outputs": [
    {
     "name": "stdout",
     "output_type": "stream",
     "text": [
      "{'SuperBot': {'messages': [AIMessage(content=\"Hello Furqan, it's nice to meet you. Is there something I can help you with or would you like to chat?\", additional_kwargs={}, response_metadata={'token_usage': {'completion_tokens': 28, 'prompt_tokens': 42, 'total_tokens': 70, 'completion_time': 0.02608405, 'prompt_time': 0.002071892, 'queue_time': 0.047468498, 'total_time': 0.028155942}, 'model_name': 'llama-3.1-8b-instant', 'system_fingerprint': 'fp_ab04adca7d', 'service_tier': 'on_demand', 'finish_reason': 'stop', 'logprobs': None}, id='run--fcb9bfdb-b677-4b7b-8077-f02ff073c4ab-0', usage_metadata={'input_tokens': 42, 'output_tokens': 28, 'total_tokens': 70})]}}\n"
     ]
    }
   ],
   "source": [
    "for event in graph_builder.stream({\"messages\":\"Hello My name is furqan\"}):\n",
    "    print(event)"
   ]
  },
  {
   "cell_type": "markdown",
   "id": "f53563d4",
   "metadata": {},
   "source": [
    "# This will **stream each event** (node execution, state update, or message) one by one."
   ]
  },
  {
   "cell_type": "markdown",
   "id": "5ccae144",
   "metadata": {},
   "source": [
    "### Final Understanding\n",
    "\n",
    "This graph is a **simple AI agent pipeline**:\n",
    "\n",
    "| Step     | What Happens                            |\n",
    "| -------- | --------------------------------------- |\n",
    "| START    | Begin execution                         |\n",
    "| SuperBot | Process messages in `superbot` function |\n",
    "| END      | Finish                                  |"
   ]
  }
 ],
 "metadata": {
  "kernelspec": {
   "display_name": "data_science",
   "language": "python",
   "name": "python3"
  },
  "language_info": {
   "codemirror_mode": {
    "name": "ipython",
    "version": 3
   },
   "file_extension": ".py",
   "mimetype": "text/x-python",
   "name": "python",
   "nbconvert_exporter": "python",
   "pygments_lexer": "ipython3",
   "version": "3.10.0"
  }
 },
 "nbformat": 4,
 "nbformat_minor": 5
}
