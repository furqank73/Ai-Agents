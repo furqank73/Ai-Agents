{
 "cells": [
  {
   "cell_type": "markdown",
   "id": "61f96e20",
   "metadata": {},
   "source": [
    "### Implementing simple Chatbot Using LangGraph with streaming"
   ]
  },
  {
   "cell_type": "code",
   "execution_count": 42,
   "id": "635eea05",
   "metadata": {},
   "outputs": [],
   "source": [
    "from typing_extensions import TypedDict\n",
    "\n",
    "from langgraph.graph import StateGraph, START, END\n",
    "\n",
    "## Reducers\n",
    "from typing import Annotated\n",
    "from langgraph.graph.message import add_messages"
   ]
  },
  {
   "cell_type": "code",
   "execution_count": 43,
   "id": "ed164c83",
   "metadata": {},
   "outputs": [],
   "source": [
    "import os\n",
    "from dotenv import load_dotenv\n",
    "load_dotenv()\n",
    "\n",
    "os.environ[\"GROQ_API_KEY\"]=os.getenv(\"GROQ_API_KEY\")\n"
   ]
  },
  {
   "cell_type": "code",
   "execution_count": 44,
   "id": "105348f7",
   "metadata": {},
   "outputs": [
    {
     "data": {
      "text/plain": [
       "AIMessage(content='Hello. How can I assist you today?', additional_kwargs={}, response_metadata={'token_usage': {'completion_tokens': 10, 'prompt_tokens': 36, 'total_tokens': 46, 'completion_time': 0.010365538, 'prompt_time': 0.001595376, 'queue_time': 0.068993684, 'total_time': 0.011960914}, 'model_name': 'llama-3.1-8b-instant', 'system_fingerprint': 'fp_33e8adf159', 'service_tier': 'on_demand', 'finish_reason': 'stop', 'logprobs': None}, id='run--a9dbcb29-6c3a-47e1-9c9a-52d959743ffd-0', usage_metadata={'input_tokens': 36, 'output_tokens': 10, 'total_tokens': 46})"
      ]
     },
     "execution_count": 44,
     "metadata": {},
     "output_type": "execute_result"
    }
   ],
   "source": [
    "from langchain_groq import ChatGroq\n",
    "\n",
    "llm=ChatGroq(model=\"llama-3.1-8b-instant\")\n",
    "llm.invoke(\"hello\")"
   ]
  },
  {
   "cell_type": "code",
   "execution_count": 45,
   "id": "74640764",
   "metadata": {},
   "outputs": [],
   "source": [
    "class state(TypedDict):\n",
    "    messages:Annotated[list,add_messages]"
   ]
  },
  {
   "cell_type": "markdown",
   "id": "26455589",
   "metadata": {},
   "source": [
    "### We Will start With Creating Nodes"
   ]
  },
  {
   "cell_type": "code",
   "execution_count": 46,
   "id": "7d2367f0",
   "metadata": {},
   "outputs": [],
   "source": [
    "from langgraph.checkpoint.memory import MemorySaver\n",
    "\n",
    "memory=MemorySaver()\n",
    "def superbot(state:state):\n",
    "    return {\"messages\":[llm.invoke(state[\"messages\"])]}"
   ]
  },
  {
   "cell_type": "code",
   "execution_count": 47,
   "id": "ba636c44",
   "metadata": {},
   "outputs": [
    {
     "data": {
      "image/png": "[encoded data removed]",
      "text/plain": [
       "<IPython.core.display.Image object>"
      ]
     },
     "metadata": {},
     "output_type": "display_data"
    }
   ],
   "source": [
    "graph=StateGraph(State)\n",
    "# Node\n",
    "graph.add_node(\"superbot\",superbot)\n",
    "\n",
    "#edges\n",
    "graph.add_edge(START,\"superbot\")\n",
    "graph.add_edge(\"superbot\",END)\n",
    "\n",
    "graph_builder=graph.compile(checkpointer=memory)\n",
    "\n",
    "#display\n",
    "from IPython.display import Image,display\n",
    "display(Image(graph_builder.get_graph().draw_mermaid_png()))"
   ]
  },
  {
   "cell_type": "code",
   "execution_count": 48,
   "id": "7707e3ac",
   "metadata": {},
   "outputs": [
    {
     "data": {
      "text/plain": [
       "{'messages': [HumanMessage(content='Hi my name is furqan', additional_kwargs={}, response_metadata={}, id='8667c6ff-86ca-4c87-b524-c9a9df346f46'),\n",
       "  AIMessage(content='Nice to meet you, Furqan! How are you today? Is there anything I can help you with or would you like to chat?', additional_kwargs={}, response_metadata={'token_usage': {'completion_tokens': 30, 'prompt_tokens': 42, 'total_tokens': 72, 'completion_time': 0.043614648, 'prompt_time': 0.019366903, 'queue_time': 5.502013968, 'total_time': 0.062981551}, 'model_name': 'llama-3.1-8b-instant', 'system_fingerprint': 'fp_31e1ee87c5', 'service_tier': 'on_demand', 'finish_reason': 'stop', 'logprobs': None}, id='run--a284a8e2-0e0f-48b0-9c0d-61c10cc14e1b-0', usage_metadata={'input_tokens': 42, 'output_tokens': 30, 'total_tokens': 72})]}"
      ]
     },
     "execution_count": 48,
     "metadata": {},
     "output_type": "execute_result"
    }
   ],
   "source": [
    "## Invocation\n",
    "\n",
    "config = {\"configurable\": {\"thread_id\": \"1\"}}\n",
    "\n",
    "graph_builder.invoke({'messages':\"Hi my name is furqan\"},config)"
   ]
  },
  {
   "cell_type": "markdown",
   "id": "9c7a13ca",
   "metadata": {},
   "source": [
    "### Streaming in LangGraph – Simple Explanation\n",
    "\n",
    "When running a LangGraph workflow, normally you call `.invoke()` and wait until the entire graph finishes before getting the final result.\n",
    "\n",
    "But **streaming** lets you get **partial results step by step** as the graph executes. This is useful when you want to show intermediate responses (like live tool outputs or reasoning steps) instead of waiting for everything to finish.\n",
    "\n",
    "---\n",
    "\n",
    "### Streaming Methods\n",
    "\n",
    "| Method       | Type         | Description                                                                                |\n",
    "| ------------ | ------------ | ------------------------------------------------------------------------------------------ |\n",
    "| `.stream()`  | Synchronous  | You get results step by step in a loop. Runs in normal Python code.                        |\n",
    "| `.astream()` | Asynchronous | Same as `.stream()`, but async. Used with `async`/`await`. Good for FastAPI or async apps. |\n",
    "\n",
    "---\n",
    "\n",
    "### Streaming Graph State\n",
    "\n",
    "When streaming, you can choose **what to stream** from the graph:\n",
    "\n",
    "#### 1. `values`\n",
    "\n",
    "* Streams the **entire graph state** after each node runs.\n",
    "* You receive **full state every time**.\n",
    "* **Use when** you want to see all variables and context at each step.\n",
    "\n",
    "#### 2. `updates`\n",
    "\n",
    "* Streams **only what changed** in the state after each node runs.\n",
    "* You receive **partial updates** only.\n",
    "* **More efficient** and clean for large graphs.\n",
    "\n",
    "---\n",
    "\n",
    "### Example Mental Model\n",
    "\n",
    "Imagine your graph is running node by node:\n",
    "\n",
    "```\n",
    "START → Node A → Node B → Node C → END\n",
    "```\n",
    "\n",
    "With streaming:\n",
    "\n",
    "| After Node | `.stream(values=True)` gets    | `.stream(updates=True)` gets |\n",
    "| ---------- | ------------------------------ | ---------------------------- |\n",
    "| Node A     | full state including A results | only A's updates             |\n",
    "| Node B     | full state including A + B     | only B's updates             |\n",
    "| Node C     | full state including A + B + C | only C's updates             |\n",
    "\n",
    "---\n",
    "\n",
    "### When to Use Which?\n",
    "\n",
    "| Goal                                  | Stream Option  |\n",
    "| ------------------------------------- | -------------- |\n",
    "| Show progress/results step by step    | `.stream()`    |\n",
    "| Integrate into async server (FastAPI) | `.astream()`   |\n",
    "| Track everything that happens         | `values=True`  |\n",
    "| Cleaner and faster state streaming    | `updates=True` |\n",
    "\n",
    "---"
   ]
  },
  {
   "cell_type": "markdown",
   "id": "8a096050",
   "metadata": {},
   "source": [
    "-  **values** : This streams the full state of the graph after each node is called."
   ]
  },
  {
   "cell_type": "code",
   "execution_count": 49,
   "id": "071762de",
   "metadata": {},
   "outputs": [
    {
     "name": "stdout",
     "output_type": "stream",
     "text": [
      "{'messages': [HumanMessage(content='Hi my name is furqan', additional_kwargs={}, response_metadata={}, id='8667c6ff-86ca-4c87-b524-c9a9df346f46'), AIMessage(content='Nice to meet you, Furqan! How are you today? Is there anything I can help you with or would you like to chat?', additional_kwargs={}, response_metadata={'token_usage': {'completion_tokens': 30, 'prompt_tokens': 42, 'total_tokens': 72, 'completion_time': 0.043614648, 'prompt_time': 0.019366903, 'queue_time': 5.502013968, 'total_time': 0.062981551}, 'model_name': 'llama-3.1-8b-instant', 'system_fingerprint': 'fp_31e1ee87c5', 'service_tier': 'on_demand', 'finish_reason': 'stop', 'logprobs': None}, id='run--a284a8e2-0e0f-48b0-9c0d-61c10cc14e1b-0', usage_metadata={'input_tokens': 42, 'output_tokens': 30, 'total_tokens': 72}), HumanMessage(content='I like football', additional_kwargs={}, response_metadata={}, id='14e26d0a-ef4a-4c35-ad1e-33902eedf7de')]}\n",
      "{'messages': [HumanMessage(content='Hi my name is furqan', additional_kwargs={}, response_metadata={}, id='8667c6ff-86ca-4c87-b524-c9a9df346f46'), AIMessage(content='Nice to meet you, Furqan! How are you today? Is there anything I can help you with or would you like to chat?', additional_kwargs={}, response_metadata={'token_usage': {'completion_tokens': 30, 'prompt_tokens': 42, 'total_tokens': 72, 'completion_time': 0.043614648, 'prompt_time': 0.019366903, 'queue_time': 5.502013968, 'total_time': 0.062981551}, 'model_name': 'llama-3.1-8b-instant', 'system_fingerprint': 'fp_31e1ee87c5', 'service_tier': 'on_demand', 'finish_reason': 'stop', 'logprobs': None}, id='run--a284a8e2-0e0f-48b0-9c0d-61c10cc14e1b-0', usage_metadata={'input_tokens': 42, 'output_tokens': 30, 'total_tokens': 72}), HumanMessage(content='I like football', additional_kwargs={}, response_metadata={}, id='14e26d0a-ef4a-4c35-ad1e-33902eedf7de'), AIMessage(content='Football is a great sport. Which team or league do you support, Furqan? The Premier League, La Liga, Champions League, or perhaps your local team?', additional_kwargs={}, response_metadata={'token_usage': {'completion_tokens': 35, 'prompt_tokens': 84, 'total_tokens': 119, 'completion_time': 0.060610314, 'prompt_time': 0.011516444, 'queue_time': 3.075663256, 'total_time': 0.072126758}, 'model_name': 'llama-3.1-8b-instant', 'system_fingerprint': 'fp_33e8adf159', 'service_tier': 'on_demand', 'finish_reason': 'stop', 'logprobs': None}, id='run--748cb27c-b99e-41e7-a51e-ece9564447f0-0', usage_metadata={'input_tokens': 84, 'output_tokens': 35, 'total_tokens': 119})]}\n"
     ]
    }
   ],
   "source": [
    "for chunk in graph_builder.stream({'messages':\"I like football\"},config,stream_mode=\"values\"):\n",
    "    print(chunk)"
   ]
  },
  {
   "cell_type": "code",
   "execution_count": 50,
   "id": "378c70ff",
   "metadata": {},
   "outputs": [
    {
     "name": "stdout",
     "output_type": "stream",
     "text": [
      "{'messages': [HumanMessage(content='Hi my name is furqan', additional_kwargs={}, response_metadata={}, id='8667c6ff-86ca-4c87-b524-c9a9df346f46'), AIMessage(content='Nice to meet you, Furqan! How are you today? Is there anything I can help you with or would you like to chat?', additional_kwargs={}, response_metadata={'token_usage': {'completion_tokens': 30, 'prompt_tokens': 42, 'total_tokens': 72, 'completion_time': 0.043614648, 'prompt_time': 0.019366903, 'queue_time': 5.502013968, 'total_time': 0.062981551}, 'model_name': 'llama-3.1-8b-instant', 'system_fingerprint': 'fp_31e1ee87c5', 'service_tier': 'on_demand', 'finish_reason': 'stop', 'logprobs': None}, id='run--a284a8e2-0e0f-48b0-9c0d-61c10cc14e1b-0', usage_metadata={'input_tokens': 42, 'output_tokens': 30, 'total_tokens': 72}), HumanMessage(content='I like football', additional_kwargs={}, response_metadata={}, id='14e26d0a-ef4a-4c35-ad1e-33902eedf7de'), AIMessage(content='Football is a great sport. Which team or league do you support, Furqan? The Premier League, La Liga, Champions League, or perhaps your local team?', additional_kwargs={}, response_metadata={'token_usage': {'completion_tokens': 35, 'prompt_tokens': 84, 'total_tokens': 119, 'completion_time': 0.060610314, 'prompt_time': 0.011516444, 'queue_time': 3.075663256, 'total_time': 0.072126758}, 'model_name': 'llama-3.1-8b-instant', 'system_fingerprint': 'fp_33e8adf159', 'service_tier': 'on_demand', 'finish_reason': 'stop', 'logprobs': None}, id='run--748cb27c-b99e-41e7-a51e-ece9564447f0-0', usage_metadata={'input_tokens': 84, 'output_tokens': 35, 'total_tokens': 119}), HumanMessage(content='I Love sports ', additional_kwargs={}, response_metadata={}, id='42cc3ea9-0204-40e6-aeef-00136d7eb546')]}\n",
      "{'messages': [HumanMessage(content='Hi my name is furqan', additional_kwargs={}, response_metadata={}, id='8667c6ff-86ca-4c87-b524-c9a9df346f46'), AIMessage(content='Nice to meet you, Furqan! How are you today? Is there anything I can help you with or would you like to chat?', additional_kwargs={}, response_metadata={'token_usage': {'completion_tokens': 30, 'prompt_tokens': 42, 'total_tokens': 72, 'completion_time': 0.043614648, 'prompt_time': 0.019366903, 'queue_time': 5.502013968, 'total_time': 0.062981551}, 'model_name': 'llama-3.1-8b-instant', 'system_fingerprint': 'fp_31e1ee87c5', 'service_tier': 'on_demand', 'finish_reason': 'stop', 'logprobs': None}, id='run--a284a8e2-0e0f-48b0-9c0d-61c10cc14e1b-0', usage_metadata={'input_tokens': 42, 'output_tokens': 30, 'total_tokens': 72}), HumanMessage(content='I like football', additional_kwargs={}, response_metadata={}, id='14e26d0a-ef4a-4c35-ad1e-33902eedf7de'), AIMessage(content='Football is a great sport. Which team or league do you support, Furqan? The Premier League, La Liga, Champions League, or perhaps your local team?', additional_kwargs={}, response_metadata={'token_usage': {'completion_tokens': 35, 'prompt_tokens': 84, 'total_tokens': 119, 'completion_time': 0.060610314, 'prompt_time': 0.011516444, 'queue_time': 3.075663256, 'total_time': 0.072126758}, 'model_name': 'llama-3.1-8b-instant', 'system_fingerprint': 'fp_33e8adf159', 'service_tier': 'on_demand', 'finish_reason': 'stop', 'logprobs': None}, id='run--748cb27c-b99e-41e7-a51e-ece9564447f0-0', usage_metadata={'input_tokens': 84, 'output_tokens': 35, 'total_tokens': 119}), HumanMessage(content='I Love sports ', additional_kwargs={}, response_metadata={}, id='42cc3ea9-0204-40e6-aeef-00136d7eb546'), AIMessage(content=\"That's awesome, Furqan. Sports can be such an exciting and engaging way to stay active, watch thrilling matches, and connect with others who share similar interests. What other sports do you enjoy watching or playing, aside from football?\", additional_kwargs={}, response_metadata={'token_usage': {'completion_tokens': 49, 'prompt_tokens': 132, 'total_tokens': 181, 'completion_time': 0.080713936, 'prompt_time': 0.011838323, 'queue_time': 0.384650935, 'total_time': 0.092552259}, 'model_name': 'llama-3.1-8b-instant', 'system_fingerprint': 'fp_7b3cfae3af', 'service_tier': 'on_demand', 'finish_reason': 'stop', 'logprobs': None}, id='run--a5701558-71fd-4c4e-b181-56090d5cc24f-0', usage_metadata={'input_tokens': 132, 'output_tokens': 49, 'total_tokens': 181})]}\n"
     ]
    }
   ],
   "source": [
    "for chunk in graph_builder.stream({'messages':\"I Love sports \"},config,stream_mode=\"values\"):\n",
    "    print(chunk)"
   ]
  },
  {
   "cell_type": "markdown",
   "id": "02bde479",
   "metadata": {},
   "source": [
    "- **updates** : This streams updates to the state of the graph after each node is called.\n"
   ]
  },
  {
   "cell_type": "code",
   "execution_count": 51,
   "id": "cc03f5c4",
   "metadata": {},
   "outputs": [
    {
     "name": "stdout",
     "output_type": "stream",
     "text": [
      "{'superbot': {'messages': [AIMessage(content=\"You're a die-hard football fan, aren't you? Okay, I get it, football is your number one passion! Which aspect of football do you enjoy the most - the tactics, the skills, the teamwork, or the thrill of winning a match?\", additional_kwargs={}, response_metadata={'token_usage': {'completion_tokens': 53, 'prompt_tokens': 195, 'total_tokens': 248, 'completion_time': 0.096007306, 'prompt_time': 0.04097188, 'queue_time': 0.06609295, 'total_time': 0.136979186}, 'model_name': 'llama-3.1-8b-instant', 'system_fingerprint': 'fp_7b3cfae3af', 'service_tier': 'on_demand', 'finish_reason': 'stop', 'logprobs': None}, id='run--9d5bebb4-fc02-4036-8476-07d4c421e16e-0', usage_metadata={'input_tokens': 195, 'output_tokens': 53, 'total_tokens': 248})]}}\n"
     ]
    }
   ],
   "source": [
    "for chunk in graph_builder.stream({'messages':\"I also like football \"},config,stream_mode=\"updates\"):\n",
    "    print(chunk)"
   ]
  },
  {
   "cell_type": "markdown",
   "id": "6db7cb0f",
   "metadata": {},
   "source": [
    "#### Streaming The Responses With astream Method\n",
    "\n",
    "**Streaming tokens**\n",
    "We often want to stream more than graph state.\n",
    "\n",
    "In particular, with chat model calls it is common to stream the **tokens** as they are generated.\n",
    "\n",
    "We can do this using the .astream_events method, which streams back events as they happen inside nodes!\n",
    "\n",
    "Each event is a dict with a few keys:\n",
    "\n",
    "- event: This is the type of event that is being emitted.\n",
    "- name: This is the name of event.\n",
    "- data: This is the data associated with the event.\n",
    "- metadata: Containslanggraph_node, the node emitting the event."
   ]
  },
  {
   "cell_type": "markdown",
   "id": "e80eeb17",
   "metadata": {},
   "source": [
    "# Astream example"
   ]
  },
  {
   "cell_type": "code",
   "execution_count": 52,
   "id": "93da6102",
   "metadata": {},
   "outputs": [
    {
     "name": "stdout",
     "output_type": "stream",
     "text": [
      "{'event': 'on_chain_start', 'data': {'input': {'messages': ['Hi My name is furqan and I like to play cricket']}}, 'name': 'LangGraph', 'tags': [], 'run_id': '340544d1-bce7-492a-878c-11d5522ec38c', 'metadata': {'thread_id': '3'}, 'parent_ids': []}\n",
      "{'event': 'on_chain_start', 'data': {'input': {'messages': [HumanMessage(content='Hi My name is furqan and I like to play cricket', additional_kwargs={}, response_metadata={}, id='f75142fc-4996-4312-ae4a-c5c78e8d20b6')]}}, 'name': 'superbot', 'tags': ['graph:step:1'], 'run_id': 'cbad4932-d2ee-47fc-be21-06591f07332f', 'metadata': {'thread_id': '3', 'langgraph_step': 1, 'langgraph_node': 'superbot', 'langgraph_triggers': ('branch:to:superbot',), 'langgraph_path': ('__pregel_pull', 'superbot'), 'langgraph_checkpoint_ns': 'superbot:c1a8eb69-d28c-7c0f-693a-fec23831bedf'}, 'parent_ids': ['340544d1-bce7-492a-878c-11d5522ec38c']}\n",
      "{'event': 'on_chain_stream', 'run_id': 'cbad4932-d2ee-47fc-be21-06591f07332f', 'name': 'superbot', 'tags': ['graph:step:1'], 'metadata': {'thread_id': '3', 'langgraph_step': 1, 'langgraph_node': 'superbot', 'langgraph_triggers': ('branch:to:superbot',), 'langgraph_path': ('__pregel_pull', 'superbot'), 'langgraph_checkpoint_ns': 'superbot:c1a8eb69-d28c-7c0f-693a-fec23831bedf'}, 'data': {'chunk': {'messages': [AIMessage(content=\"Hello Furqan, nice to meet you. It's great to hear that you enjoy playing cricket. Cricket is a fantastic sport that requires skill, strategy, and teamwork. Are you a part of a local cricket team or do you play casually with friends?\", additional_kwargs={}, response_metadata={'token_usage': {'completion_tokens': 53, 'prompt_tokens': 48, 'total_tokens': 101, 'completion_time': 0.076842034, 'prompt_time': 0.003663705, 'queue_time': 0.080144155, 'total_time': 0.080505739}, 'model_name': 'llama-3.1-8b-instant', 'system_fingerprint': 'fp_7b3cfae3af', 'service_tier': 'on_demand', 'finish_reason': 'stop', 'logprobs': None}, id='run--6f53e1a6-d5c1-4c88-afa2-df905992a1a5-0', usage_metadata={'input_tokens': 48, 'output_tokens': 53, 'total_tokens': 101})]}}, 'parent_ids': ['340544d1-bce7-492a-878c-11d5522ec38c']}\n",
      "{'event': 'on_chain_end', 'data': {'output': {'messages': [AIMessage(content=\"Hello Furqan, nice to meet you. It's great to hear that you enjoy playing cricket. Cricket is a fantastic sport that requires skill, strategy, and teamwork. Are you a part of a local cricket team or do you play casually with friends?\", additional_kwargs={}, response_metadata={'token_usage': {'completion_tokens': 53, 'prompt_tokens': 48, 'total_tokens': 101, 'completion_time': 0.076842034, 'prompt_time': 0.003663705, 'queue_time': 0.080144155, 'total_time': 0.080505739}, 'model_name': 'llama-3.1-8b-instant', 'system_fingerprint': 'fp_7b3cfae3af', 'service_tier': 'on_demand', 'finish_reason': 'stop', 'logprobs': None}, id='run--6f53e1a6-d5c1-4c88-afa2-df905992a1a5-0', usage_metadata={'input_tokens': 48, 'output_tokens': 53, 'total_tokens': 101})]}, 'input': {'messages': [HumanMessage(content='Hi My name is furqan and I like to play cricket', additional_kwargs={}, response_metadata={}, id='f75142fc-4996-4312-ae4a-c5c78e8d20b6')]}}, 'run_id': 'cbad4932-d2ee-47fc-be21-06591f07332f', 'name': 'superbot', 'tags': ['graph:step:1'], 'metadata': {'thread_id': '3', 'langgraph_step': 1, 'langgraph_node': 'superbot', 'langgraph_triggers': ('branch:to:superbot',), 'langgraph_path': ('__pregel_pull', 'superbot'), 'langgraph_checkpoint_ns': 'superbot:c1a8eb69-d28c-7c0f-693a-fec23831bedf'}, 'parent_ids': ['340544d1-bce7-492a-878c-11d5522ec38c']}\n",
      "{'event': 'on_chain_stream', 'run_id': '340544d1-bce7-492a-878c-11d5522ec38c', 'name': 'LangGraph', 'tags': [], 'metadata': {'thread_id': '3'}, 'data': {'chunk': {'superbot': {'messages': [AIMessage(content=\"Hello Furqan, nice to meet you. It's great to hear that you enjoy playing cricket. Cricket is a fantastic sport that requires skill, strategy, and teamwork. Are you a part of a local cricket team or do you play casually with friends?\", additional_kwargs={}, response_metadata={'token_usage': {'completion_tokens': 53, 'prompt_tokens': 48, 'total_tokens': 101, 'completion_time': 0.076842034, 'prompt_time': 0.003663705, 'queue_time': 0.080144155, 'total_time': 0.080505739}, 'model_name': 'llama-3.1-8b-instant', 'system_fingerprint': 'fp_7b3cfae3af', 'service_tier': 'on_demand', 'finish_reason': 'stop', 'logprobs': None}, id='run--6f53e1a6-d5c1-4c88-afa2-df905992a1a5-0', usage_metadata={'input_tokens': 48, 'output_tokens': 53, 'total_tokens': 101})]}}}, 'parent_ids': []}\n",
      "{'event': 'on_chain_end', 'data': {'output': {'messages': [HumanMessage(content='Hi My name is furqan and I like to play cricket', additional_kwargs={}, response_metadata={}, id='f75142fc-4996-4312-ae4a-c5c78e8d20b6'), AIMessage(content=\"Hello Furqan, nice to meet you. It's great to hear that you enjoy playing cricket. Cricket is a fantastic sport that requires skill, strategy, and teamwork. Are you a part of a local cricket team or do you play casually with friends?\", additional_kwargs={}, response_metadata={'token_usage': {'completion_tokens': 53, 'prompt_tokens': 48, 'total_tokens': 101, 'completion_time': 0.076842034, 'prompt_time': 0.003663705, 'queue_time': 0.080144155, 'total_time': 0.080505739}, 'model_name': 'llama-3.1-8b-instant', 'system_fingerprint': 'fp_7b3cfae3af', 'service_tier': 'on_demand', 'finish_reason': 'stop', 'logprobs': None}, id='run--6f53e1a6-d5c1-4c88-afa2-df905992a1a5-0', usage_metadata={'input_tokens': 48, 'output_tokens': 53, 'total_tokens': 101})]}}, 'run_id': '340544d1-bce7-492a-878c-11d5522ec38c', 'name': 'LangGraph', 'tags': [], 'metadata': {'thread_id': '3'}, 'parent_ids': []}\n"
     ]
    }
   ],
   "source": [
    "config = {\"configurable\": {\"thread_id\": \"3\"}}\n",
    "\n",
    "async for event in graph_builder.astream_events({\"messages\":[\"Hi My name is furqan and I like to play cricket\"]},config,version=\"v2\"):\n",
    "    print(event)"
   ]
  },
  {
   "cell_type": "markdown",
   "id": "c1946512",
   "metadata": {},
   "source": [
    "| Situation                                    | Use `.astream()`? |\n",
    "| -------------------------------------------- | ----------------- |\n",
    "| Web app with FastAPI / async backend         | ✅ Yes             |\n",
    "| Live chat experience                         | ✅ Yes             |\n",
    "| Handling tool outputs step by step           | ✅ Yes             |\n",
    "| Building CLI script or Jupyter notebook only | ❌ Use `.stream()` |\n",
    "| Heavy backend parallel workloads             | ✅ Yes             |\n",
    "| Multi-user system                            | ✅ Yes             |\n",
    "| Single simple script                         | ❌ Not needed      |\n"
   ]
  }
 ],
 "metadata": {
  "kernelspec": {
   "display_name": "data_science",
   "language": "python",
   "name": "python3"
  },
  "language_info": {
   "codemirror_mode": {
    "name": "ipython",
    "version": 3
   },
   "file_extension": ".py",
   "mimetype": "text/x-python",
   "name": "python",
   "nbconvert_exporter": "python",
   "pygments_lexer": "ipython3",
   "version": "3.10.0"
  }
 },
 "nbformat": 4,
 "nbformat_minor": 5
}
