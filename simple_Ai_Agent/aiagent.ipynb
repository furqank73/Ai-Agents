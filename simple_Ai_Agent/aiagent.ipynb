{
 "cells": [
  {
   "cell_type": "markdown",
   "id": "b784ddc2",
   "metadata": {},
   "source": [
    "<div style=\"background-color:#4d1a99; padding: 20px; border-radius: 10px;\"> \n",
    "\n",
    "# <h2 style=\"color: #fbfaf9ff; text-align: center;\">**AI Agents + Agentic AI + RAG + LangGraph (All in One)**</h2>"
   ]
  },
  {
   "cell_type": "markdown",
   "id": "fdc1c743",
   "metadata": {},
   "source": [
    "## What is an AI Agent?\n",
    "\n",
    "An **AI Agent** is an intelligent system that can **think, plan, and take actions** using tools — not just generate text.\n",
    "\n",
    "**Example:**\n",
    "You say: *\"Book me a flight to Dubai.\"*\n",
    "Agent searches flights + compares prices + books a ticket \n",
    "\n",
    "---\n",
    "\n",
    "## How AI Agents Work (ReAct Loop)\n",
    "\n",
    "```\n",
    "Input → Think → Decide → Act → Observe → Repeat\n",
    "```\n",
    "\n",
    "**Example:**\n",
    "User asks: *\"Solve 5×8 and email me the result\"* → Agent calculates → sends email → done \n",
    "\n",
    "---\n",
    "\n",
    "## Key Components of an AI Agent\n",
    "\n",
    "| Component | Purpose                | Example                 |\n",
    "| --------- | ---------------------- | ----------------------- |\n",
    "| LLM       | Brain of agent         | GPT thinks step-by-step |\n",
    "| Tools     | Take actions           | Calculator, Browser     |\n",
    "| Memory    | Stores history         | Saves past messages     |\n",
    "| Planner   | Breaks goal into steps | Plan before acting      |\n",
    "| State     | Current task data      | Saves progress          |\n",
    "| Graph     | Controls workflow      | LangGraph manages steps |\n",
    "\n",
    "---\n",
    "\n",
    "## Types of AI Agents\n",
    "\n",
    "| Type           | Short Use          | Example                  |\n",
    "| -------------- | ------------------ | ------------------------ |\n",
    "| Reactive Agent | Simple chat        | Question answering       |\n",
    "| Tool Agent     | Uses tools         | Calculator bot           |\n",
    "| RAG Agent      | Uses your data     | PDF Q&A                  |\n",
    "| Workflow Agent | Multi-step tasking | Report generator         |\n",
    "| Multi-Agent    | Team of agents     | Research + Writer agents |\n",
    "\n",
    "---\n",
    "\n",
    "## AI Agent vs Normal Chatbot\n",
    "\n",
    "| Feature      | Chatbot   | AI Agent |\n",
    "| ------------ | --------- | -------- |\n",
    "| Only answers | ✅ Yes     | ✅ Yes    |\n",
    "| Uses tools   | ❌ No      | ✅ Yes    |\n",
    "| Memory       | ❌ Limited | ✅ Yes    |\n",
    "| Autonomous   | ❌ No      | ✅ Yes    |\n",
    "| Solves tasks | ❌ No      | ✅ Yes    |\n",
    "\n",
    "---\n",
    "\n",
    "## Agentic AI vs AI Agent vs RAG\n",
    "\n",
    "| Feature              | AI Agent | Agentic AI        | RAG     | Agentic RAG        |\n",
    "| -------------------- | -------- | ----------------- | ------- | ------------------ |\n",
    "| Uses tools           | ✅        | ✅                 | ❌       | ✅                  |\n",
    "| Retrieves knowledge  | ❌        | ❌                 | ✅       | ✅                  |\n",
    "| Planning & reasoning | ✅        | ✅                 | ❌       | ✅                  |\n",
    "| Example              | Code bot | Self-planning bot | PDF Q&A | Smart research bot |\n",
    "----------------------------------------------------------------------------------------------\n",
    "| Type            | Example                                                       |\n",
    "| --------------- | ------------------------------------------------------------- |\n",
    "| **RAG**         | Q&A from a PDF                                                |\n",
    "| **AI Agent**    | Book a flight + send confirmation                             |\n",
    "| **Agentic RAG** | Read multiple company reports and generate a business summary |\n",
    "| **Agentic AI**  | Build, test, and deploy code automatically                    |\n",
    "\n",
    "---\n",
    "\n",
    "# **What is LangGraph?**\n",
    "\n",
    "**LangGraph** is a framework to build **AI agents as graphs**—step-by-step workflows with **memory, loops, decisions, and tools**.\n",
    "\n",
    "Built on LangChain\n",
    "Perfect for **Agentic AI**\n",
    "Used by **advanced AI systems**\n",
    "\n",
    "---\n",
    "\n",
    "## 🔗 Why **\"Graph\"?**\n",
    "\n",
    "Your workflow isn't always straight — sometimes:\n",
    "\n",
    "Step 1 → Step 2 → Step 3\n",
    "Condition: go to different step\n",
    "Loop: retry until success\n",
    "Connect multiple agents\n",
    "\n",
    "---\n",
    "\n",
    "## Core Concepts of LangGraph\n",
    "\n",
    "| Concept | Meaning       | Example                   |\n",
    "| ------- | ------------- | ------------------------- |\n",
    "| State   | Shared memory | Stores user input, result |\n",
    "| Node    | A step/task   | Call Gemini to summarize  |\n",
    "| Edge    | Connection    | Next step in graph        |\n",
    "| Graph   | Full workflow | Complete agent logic      |\n",
    "\n",
    "---\n",
    "\n"
   ]
  },
  {
   "cell_type": "markdown",
   "id": "cd21ff0e",
   "metadata": {},
   "source": [
    "# **We are building a simple AI workflow graph where:**\n",
    "\n",
    "It starts with planning to play. Then randomly chooses cricket or badminton.Updates a graph_info string \n",
    "Ends the workflow."
   ]
  },
  {
   "cell_type": "markdown",
   "id": "919ef7b7",
   "metadata": {},
   "source": [
    "# What is State in LangGraph?\n",
    "The State schema serves as the input schema for all Nodes and Edges in the graph.\n",
    "\n",
    "### Why use TypedDict?\n",
    "✅ Easy to manage workflows\n",
    "\n",
    "* Here it only contains `graph_info`, which is a **text log** of actions.\n",
    "\n",
    "```python\n",
    "{\"graph_info\": \"Hey My name is Furqan\"}\n",
    "```\n",
    "\n"
   ]
  },
  {
   "cell_type": "markdown",
   "id": "2296f4bc",
   "metadata": {},
   "source": [
    "### 🔹 Concept\n",
    "\n",
    "* **State** = a dictionary that stores workflow data.\n",
    "* **graph_info** (or **graph_state**) = a key inside state that keeps the **“story” of the workflow**.\n",
    "* **Node** = a function that **updates this key** and returns a new state.\n",
    "* Each node **does not overwrite the previous info**, it **adds to it**.\n",
    "ns the first step**.\n",
    "\n",
    "---"
   ]
  },
  {
   "cell_type": "code",
   "execution_count": 1,
   "id": "86f0fc8c",
   "metadata": {},
   "outputs": [],
   "source": [
    "from typing_extensions import TypedDict\n",
    "class State(TypedDict):\n",
    "    graph_info:str"
   ]
  },
  {
   "cell_type": "markdown",
   "id": "f5e0974d",
   "metadata": {},
   "source": [
    "### 🔹 Simple Meaning\n",
    "\n",
    "* Each node **adds its own information** to `graph_info`.\n",
    "* The **final state** contains the **full story** of everything that happened.\n",
    "* Think of `graph_info` like a **running log** of the workflow.\n"
   ]
  },
  {
   "cell_type": "code",
   "execution_count": null,
   "id": "48d2273a",
   "metadata": {},
   "outputs": [],
   "source": [
    "'''#### Nodes\n",
    "Nodes are just python functions.\n",
    "The first positional argument is the state, as defined above.\n",
    "Because the state is a TypedDict with schema as defined above, each node can access the key, graph_state, with state['graph_state'].\n",
    "Each node returns a new value of the state key graph_state.\n",
    "By default, the new value returned by each node will override the prior state value.\n",
    "\n",
    "* Each function is a **node** in the workflow.\n",
    "* They **take `state` as input**, update `graph_info`, and **return new state**.'''\n",
    "\n",
    "def start_play(state:State):\n",
    "    print(\"Start_Play node has been called\")\n",
    "    return {\"graph_info\":state['graph_info'] + \" I am planning to play\"} #{\"graph_info\": \"Hey My name is Furqan I am planning to play\"}\n",
    "\n",
    "def cricket(state:State):\n",
    "    print(\"My Cricket node has been called\")\n",
    "    return {\"graph_info\":state['graph_info'] + \" Cricket\"} #{\"graph_info\": \"Hey My name is Furqan I am planning to play Cricket\"}\n",
    "\n",
    "def badminton(state:State):\n",
    "    print(\"My badminton node has been called\")\n",
    "    return {\"graph_info\":state['graph_info'] + \" Badminton\"} #{\"graph_info\": \"Hey My name is Furqan I am planning to play Badminton\"}\n",
    "\n",
    "\n",
    "    "
   ]
  },
  {
   "cell_type": "code",
   "execution_count": 3,
   "id": "83c00d35",
   "metadata": {},
   "outputs": [],
   "source": [
    "import random\n",
    "from typing import Literal\n",
    "\n",
    "'''* This function **decides which node to run next**.\n",
    "* Returns `\"cricket\"` or `\"badminton\"` randomly.\n",
    "* `Literal` type hints that it can **only return these two strings**.\n",
    "'''\n",
    "\n",
    "\n",
    "def random_play(state:State)-> Literal['cricket','badminton']:\n",
    "    graph_info=state['graph_info']\n",
    "\n",
    "    if random.random()>0.5:\n",
    "        return \"cricket\"\n",
    "    else:\n",
    "        return \"badminton\""
   ]
  },
  {
   "cell_type": "markdown",
   "id": "4685338b",
   "metadata": {},
   "source": [
    "#### Graph Construction\n",
    "Now, we build the graph from our components defined above.\n",
    "\n",
    "The StateGraph class is the graph class that we can use.\n",
    "\n",
    "First, we initialize a StateGraph with the State class we defined above.\n",
    "\n",
    "Then, we add our nodes and edges.\n",
    "\n",
    "We use the START Node, a special node that sends user input to the graph, to indicate where to start our graph.\n",
    "\n",
    "The END Node is a special node that represents a terminal node.\n",
    "\n",
    "Finally, we compile our graph to perform a few basic checks on the graph structure.\n",
    "\n",
    "We can visualize the graph as a Mermaid diagram."
   ]
  },
  {
   "cell_type": "code",
   "execution_count": null,
   "id": "cc7f7bfa",
   "metadata": {},
   "outputs": [
    {
     "data": {
      "image/jpeg": "[encoded data removed]",
      "text/plain": [
       "<IPython.core.display.Image object>"
      ]
     },
     "metadata": {},
     "output_type": "display_data"
    }
   ],
   "source": [
    "from IPython.display import Image,display\n",
    "from langgraph.graph import StateGraph,START,END\n",
    "\n",
    "## Build Graph * `StateGraph(State)` creates a new **graph workflow** using the `State` type.\n",
    "graph=StateGraph(State)\n",
    "\n",
    "## Adding the nodes  * Each node function is **added to the graph** with a unique name.\n",
    "graph.add_node(\"start_play\",start_play)\n",
    "graph.add_node(\"cricket\",cricket)\n",
    "graph.add_node(\"badminton\",badminton)\n",
    "\n",
    "## Schedule the flow of the graph\n",
    "\n",
    "graph.add_edge(START,\"start_play\") #* `add_edge(START, \"start_play\")`: Workflow **starts at `start_play`**.\n",
    "graph.add_conditional_edges(\"start_play\",random_play) #* `add_conditional_edges(\"start_play\", random_play)`: After `start_play`, **run `cricket` or `badminton`** based on `random_play`.\n",
    "graph.add_edge(\"cricket\",END) #* `add_edge(\"cricket\", END)` and `add_edge(\"badminton\", END)`: Both nodes **lead to the end of the workflow**.\n",
    "graph.add_edge(\"badminton\",END)\n",
    "\n",
    "## Compile the graph * Prepares the workflow for execution.m* Validates nodes, edges, and conditional flows.\n",
    "graph_builder=graph.compile()\n",
    "\n",
    "# Graph View \n",
    "# View Shows a **graph diagram**:\n",
    "# START → start_play → cricket → END↘ badminton → END\n",
    "# Helps understand the **workflow visually**.\n",
    "\n",
    "display(Image(graph_builder.get_graph().draw_mermaid_png()))"
   ]
  },
  {
   "cell_type": "code",
   "execution_count": null,
   "id": "71b1eafd",
   "metadata": {},
   "outputs": [
    {
     "name": "stdout",
     "output_type": "stream",
     "text": [
      "Start_Play node has been called\n",
      "My Cricket node has been called\n"
     ]
    },
    {
     "data": {
      "text/plain": [
       "{'graph_info': 'Hey My name is furqan I am planning to play Cricket'}"
      ]
     },
     "execution_count": 5,
     "metadata": {},
     "output_type": "execute_result"
    }
   ],
   "source": [
    "# Starts the workflow with initial state:\n",
    "# `random_play` chooses **cricket** or **badminton**. The final state contains **all updates in `graph_info`\n",
    "\n",
    "graph_builder.invoke({\"graph_info\":\"Hey My name is furqan\"})"
   ]
  },
  {
   "cell_type": "markdown",
   "id": "fe3cb4ea",
   "metadata": {},
   "source": [
    "## 🔥 Summary\n",
    "\n",
    "1. **State** = dictionary that stores workflow data.\n",
    "2. **Node** = a function that reads state, updates it, and returns new state.\n",
    "3. **Conditional node** = chooses next node based on logic (here, random).\n",
    "4. **Graph** = connects nodes in a workflow (edges define the flow).\n",
    "5. **Compile & Invoke** = prepares the graph and runs it.\n",
    "6. **Visualize** = optional but helps see the flow.\n"
   ]
  }
 ],
 "metadata": {
  "kernelspec": {
   "display_name": "rag_new",
   "language": "python",
   "name": "python3"
  },
  "language_info": {
   "codemirror_mode": {
    "name": "ipython",
    "version": 3
   },
   "file_extension": ".py",
   "mimetype": "text/x-python",
   "name": "python",
   "nbconvert_exporter": "python",
   "pygments_lexer": "ipython3",
   "version": "3.10.19"
  }
 },
 "nbformat": 4,
 "nbformat_minor": 5
}
